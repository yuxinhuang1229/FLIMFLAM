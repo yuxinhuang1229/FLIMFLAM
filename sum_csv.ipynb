{
 "cells": [
  {
   "cell_type": "code",
   "execution_count": 3,
   "metadata": {},
   "outputs": [],
   "source": [
    "import numpy as np\n",
    "from astropy.io import ascii\n",
    "import pandas as pd"
   ]
  },
  {
   "cell_type": "code",
   "execution_count": 4,
   "metadata": {},
   "outputs": [],
   "source": [
    "file_08_1 = '/Users/huangyuxin/Downloads/auto_md/08/191001_conf01_p01_spliced_191001conf.mz'\n",
    "file_08_2 = '/Users/huangyuxin/Downloads/auto_md/08/191001_conf03_p01_spliced_191001conf.mz'\n",
    "file_08_3 = '/Users/huangyuxin/Downloads/auto_md/08/191001_conf05_p01_v2_spliced_191001conf.mz'\n",
    "\n",
    "file_09_1 = '/Users/huangyuxin/Downloads/auto_md/09/180924_conf00_p0_spliced_191001conf.mz'\n",
    "file_09_2 = '/Users/huangyuxin/Downloads/auto_md/09/180924_conf01_p1_spliced_191001conf.mz'\n",
    "file_09_3 = '/Users/huangyuxin/Downloads/auto_md/09/180924_conf02_p0_spliced_191001conf.mz'\n",
    "file_09_4 = '/Users/huangyuxin/Downloads/auto_md/09/191001_conf07_p1_v2_spliced_191001conf.mz'\n",
    "\n",
    "file_10_1 = '/Users/huangyuxin/Downloads/auto_md/10/191001_conf00_w2_p0_spliced_191001conf.mz'\n",
    "file_10_2 = '/Users/huangyuxin/Downloads/auto_md/10/191001_conf01_w2_p1_spliced_191001conf.mz'\n",
    "file_10_3 = '/Users/huangyuxin/Downloads/auto_md/10/191001_conf02_w2_p0_spliced_191001conf.mz'\n",
    "\n",
    "file_11_1 = '/Users/huangyuxin/Downloads/auto_md/11/180924_conf00_w2_p0_spliced_191001conf.mz'\n",
    "file_11_2 = '/Users/huangyuxin/Downloads/auto_md/11/180924_conf01_w2_p1_spliced_191001conf.mz'\n",
    "file_11_3 = '/Users/huangyuxin/Downloads/auto_md/11/180924_conf03_w2_p1_spliced_191001conf.mz'\n",
    "file_11_4 = '/Users/huangyuxin/Downloads/auto_md/11/191001_conf03_w2_p1_spliced_191001conf.mz'\n",
    "#file_11_5 = '/Users/huangyuxin/Downloads/auto_md/11/191001_conf04_w2_p0_spliced_191001conf.mz'\n",
    "\n",
    "file_12_1 = '/Users/huangyuxin/Downloads/auto_md/12/180924_conf02_w2_p0_spliced_191001conf.mz'\n",
    "\n",
    "file_16_1 = '/Users/huangyuxin/Downloads/auto_md/16/180924_conf03_p1_spliced_191001conf.mz'\n",
    "file_16_2 = '/Users/huangyuxin/Downloads/auto_md/16/181112_p2_conf00_p0_spliced_191001conf.mz'\n",
    "file_16_3 = '/Users/huangyuxin/Downloads/auto_md/16/181112_p2_conf01_p1_spliced_191001conf.mz'\n",
    "\n",
    "intable_08_1 = ascii.read(file_08_1, data_start=0, names=('id', 'name', 'ra', 'dec', 'mag', 'type', 'autotid', 'autotn','autoz',\n",
    "                                                'autoxcor', 'fintid', 'fintn', 'finz', 'qop', 'comment'))\n",
    "intable_08_2 = ascii.read(file_08_2, data_start=0, names=('id', 'name', 'ra', 'dec', 'mag', 'type', 'autotid', 'autotn','autoz',\n",
    "                                                'autoxcor', 'fintid', 'fintn', 'finz', 'qop', 'comment'))\n",
    "intable_08_3 = ascii.read(file_08_3, data_start=0, names=('id', 'name', 'ra', 'dec', 'mag', 'type', 'autotid', 'autotn','autoz',\n",
    "                                                'autoxcor', 'fintid', 'fintn', 'finz', 'qop', 'comment'))\n",
    "\n",
    "intable_09_1 = ascii.read(file_09_1, data_start=0, names=('id', 'name', 'ra', 'dec', 'mag', 'type', 'autotid', 'autotn','autoz',\n",
    "                                                'autoxcor', 'fintid', 'fintn', 'finz', 'qop', 'comment'))\n",
    "intable_09_2 = ascii.read(file_09_2, data_start=0, names=('id', 'name', 'ra', 'dec', 'mag', 'type', 'autotid', 'autotn','autoz',\n",
    "                                                'autoxcor', 'fintid', 'fintn', 'finz', 'qop', 'comment'))\n",
    "intable_09_3 = ascii.read(file_09_3, data_start=0, names=('id', 'name', 'ra', 'dec', 'mag', 'type', 'autotid', 'autotn','autoz',\n",
    "                                                'autoxcor', 'fintid', 'fintn', 'finz', 'qop', 'comment'))\n",
    "intable_09_4 = ascii.read(file_09_4, data_start=0, names=('id', 'name', 'ra', 'dec', 'mag', 'type', 'autotid', 'autotn','autoz',\n",
    "                                                'autoxcor', 'fintid', 'fintn', 'finz', 'qop', 'comment'))\n",
    "\n",
    "intable_10_1 = ascii.read(file_10_1, data_start=0, names=('id', 'name', 'ra', 'dec', 'mag', 'type', 'autotid', 'autotn','autoz',\n",
    "                                                'autoxcor', 'fintid', 'fintn', 'finz', 'qop', 'comment'))\n",
    "intable_10_2 = ascii.read(file_10_2, data_start=0, names=('id', 'name', 'ra', 'dec', 'mag', 'type', 'autotid', 'autotn','autoz',\n",
    "                                                'autoxcor', 'fintid', 'fintn', 'finz', 'qop', 'comment'))\n",
    "intable_10_3 = ascii.read(file_10_3, data_start=0, names=('id', 'name', 'ra', 'dec', 'mag', 'type', 'autotid', 'autotn','autoz',\n",
    "                                                'autoxcor', 'fintid', 'fintn', 'finz', 'qop', 'comment'))\n",
    "\n",
    "intable_11_1 = ascii.read(file_11_1, data_start=0, names=('id', 'name', 'ra', 'dec', 'mag', 'type', 'autotid', 'autotn','autoz',\n",
    "                                                'autoxcor', 'fintid', 'fintn', 'finz', 'qop', 'comment'))\n",
    "intable_11_2 = ascii.read(file_11_2, data_start=0, names=('id', 'name', 'ra', 'dec', 'mag', 'type', 'autotid', 'autotn','autoz',\n",
    "                                                'autoxcor', 'fintid', 'fintn', 'finz', 'qop', 'comment'))\n",
    "intable_11_3 = ascii.read(file_11_3, data_start=0, names=('id', 'name', 'ra', 'dec', 'mag', 'type', 'autotid', 'autotn','autoz',\n",
    "                                                'autoxcor', 'fintid', 'fintn', 'finz', 'qop', 'comment'))\n",
    "intable_11_4 = ascii.read(file_11_4, data_start=0, names=('id', 'name', 'ra', 'dec', 'mag', 'type', 'autotid', 'autotn','autoz',\n",
    "                                                'autoxcor', 'fintid', 'fintn', 'finz', 'qop', 'comment'))\n",
    "intable_11_5 = ascii.read(file_11_5, data_start=0, names=('id', 'name', 'ra', 'dec', 'mag', 'type', 'autotid', 'autotn','autoz',\n",
    "                                                'autoxcor', 'fintid', 'fintn', 'finz', 'qop', 'comment'))\n",
    "\n",
    "intable_12_1 = ascii.read(file_12_1, data_start=0, names=('id', 'name', 'ra', 'dec', 'mag', 'type', 'autotid', 'autotn','autoz',\n",
    "                                                'autoxcor', 'fintid', 'fintn', 'finz', 'qop', 'comment'))\n",
    "\n",
    "intable_16_1 = ascii.read(file_16_1, data_start=0, names=('id', 'name', 'ra', 'dec', 'mag', 'type', 'autotid', 'autotn','autoz',\n",
    "                                                'autoxcor', 'fintid', 'fintn', 'finz', 'qop', 'comment'))\n",
    "intable_16_2 = ascii.read(file_16_2, data_start=0, names=('id', 'name', 'ra', 'dec', 'mag', 'type', 'autotid', 'autotn','autoz',\n",
    "                                                'autoxcor', 'fintid', 'fintn', 'finz', 'qop', 'comment'))\n",
    "intable_16_3 = ascii.read(file_16_3, data_start=0, names=('id', 'name', 'ra', 'dec', 'mag', 'type', 'autotid', 'autotn','autoz',\n",
    "                                                'autoxcor', 'fintid', 'fintn', 'finz', 'qop', 'comment'))"
   ]
  },
  {
   "cell_type": "code",
   "execution_count": 7,
   "metadata": {},
   "outputs": [],
   "source": [
    "narrowfile_191001 = '/Users/huangyuxin/Desktop/graduate_study/FRB_files/configure/test/Master_files/FRB191001_22.0_narrow.txt'\n",
    "\n",
    "narrowtable_191001 = ascii.read(narrowfile_191001, data_start=0, names=('id', 'ra_h', 'ra_m', 'ra_s', 'dec_d', 'dec_m', 'dec_s', 'flag','pro',\n",
    "                                                'mag', 'projid', 'vra', 'vdec'))\n",
    "\n",
    "narrowfile_180924 = '/Users/huangyuxin/Desktop/graduate_study/FRB_files/configure/test/Master_files/FRB180924_22.0_narrow.txt'\n",
    "\n",
    "narrowtable_180924 = ascii.read(narrowfile_180924, data_start=0, names=('id', 'ra_h', 'ra_m', 'ra_s', 'dec_d', 'dec_m', 'dec_s', 'flag','pro',\n",
    "                                                'mag', 'projid', 'vra', 'vdec'))"
   ]
  },
  {
   "cell_type": "code",
   "execution_count": 15,
   "metadata": {},
   "outputs": [],
   "source": [
    "masterfile_191001 = '/Users/huangyuxin/Desktop/graduate_study/FRB_files/configure/test/Master_files/FRB191001.txt'\n",
    "masterfile_180924 = '/Users/huangyuxin/Desktop/graduate_study/FRB_files/configure/test/Master_files/FRB180924.txt'\n",
    "\n",
    "mastable_191001 = ascii.read(masterfile_191001, data_start=4, names=('id', 'ra_h', 'ra_m', 'ra_s', 'dec_d', 'dec_m', 'dec_s', 'flag','pro',\n",
    "                                                'mag', 'projid', 'vra', 'vdec'))\n",
    "mastable_180924 = ascii.read(masterfile_180924, data_start=4, names=('id', 'ra_h', 'ra_m', 'ra_s', 'dec_d', 'dec_m', 'dec_s', 'flag','pro',\n",
    "                                                'mag', 'projid', 'vra', 'vdec'))"
   ]
  },
  {
   "cell_type": "code",
   "execution_count": null,
   "metadata": {},
   "outputs": [],
   "source": []
  },
  {
   "cell_type": "markdown",
   "metadata": {},
   "source": [
    "# wide"
   ]
  },
  {
   "cell_type": "markdown",
   "metadata": {},
   "source": [
    "## 191001"
   ]
  },
  {
   "cell_type": "code",
   "execution_count": 117,
   "metadata": {},
   "outputs": [],
   "source": [
    "wid_id = np.array([],dtype='int64')\n",
    "wid_time = np.array([],dtype='int16')\n",
    "wid_aqop = np.array([],dtype='int8')"
   ]
  },
  {
   "cell_type": "code",
   "execution_count": 118,
   "metadata": {},
   "outputs": [],
   "source": [
    "intable = intable_11_4\n",
    "for i in range(len(intable['name'])):\n",
    "    if(sum(np.in1d(intable['name'][i], narrowtable_191001['id']))==0):\n",
    "        wid_id = np.append(wid_id, intable['name'][i])\n",
    "        wid_time = np.append(wid_time, 1200*2)\n",
    "        wid_aqop = np.append(wid_aqop, intable['qop'][i])"
   ]
  },
  {
   "cell_type": "code",
   "execution_count": 119,
   "metadata": {},
   "outputs": [
    {
     "data": {
      "text/plain": [
       "15"
      ]
     },
     "execution_count": 119,
     "metadata": {},
     "output_type": "execute_result"
    }
   ],
   "source": [
    "len(wid_id)"
   ]
  },
  {
   "cell_type": "code",
   "execution_count": 120,
   "metadata": {},
   "outputs": [],
   "source": [
    "f = open('191001_record.txt', 'a+')\n",
    "#f.write('# coadd_obj_id   group   total_exposure_time(second)   auto_QOP   target_name\\n')\n",
    "for i in range(len(wid_id)):\n",
    "    f.write('{0:12}   {1:6}   {2:6}   {3:3}      {4:30}\\n'.format(wid_id[i], 'wide', wid_time[i], wid_aqop[i], '191001_conf03_w2_p1'))\n",
    "f.close()"
   ]
  },
  {
   "cell_type": "markdown",
   "metadata": {},
   "source": [
    "## 180924"
   ]
  },
  {
   "cell_type": "code",
   "execution_count": 277,
   "metadata": {},
   "outputs": [],
   "source": [
    "wid_id = np.array([],dtype='int64')\n",
    "wid_time = np.array([],dtype='int16')\n",
    "wid_aqop = np.array([],dtype='int8')"
   ]
  },
  {
   "cell_type": "code",
   "execution_count": 278,
   "metadata": {},
   "outputs": [],
   "source": [
    "intable = intable_16_1\n",
    "for i in range(len(intable['name'])):\n",
    "    if(sum(np.in1d(intable['name'][i], narrowtable_180924['id']))==0):\n",
    "        wid_id = np.append(wid_id, intable['name'][i])\n",
    "        wid_time = np.append(wid_time, 1200*2)\n",
    "        wid_aqop = np.append(wid_aqop, intable['qop'][i])"
   ]
  },
  {
   "cell_type": "code",
   "execution_count": 279,
   "metadata": {},
   "outputs": [
    {
     "data": {
      "text/plain": [
       "355"
      ]
     },
     "execution_count": 279,
     "metadata": {},
     "output_type": "execute_result"
    }
   ],
   "source": [
    "len(wid_id)"
   ]
  },
  {
   "cell_type": "code",
   "execution_count": 280,
   "metadata": {},
   "outputs": [],
   "source": [
    "f = open('180924_record.txt', 'a+')\n",
    "#f.write('# coadd_obj_id   group   total_exposure_time(second)   auto_QOP   target_name\\n')\n",
    "for i in range(len(wid_id)):\n",
    "    f.write('{0:12}   {1:6}   {2:6}   {3:3}      {4:30}\\n'.format(wid_id[i], 'wide', wid_time[i], wid_aqop[i], '180924_conf03_p1'))\n",
    "f.close()"
   ]
  },
  {
   "cell_type": "code",
   "execution_count": null,
   "metadata": {},
   "outputs": [],
   "source": []
  },
  {
   "cell_type": "markdown",
   "metadata": {},
   "source": [
    "# narrow\n",
    "\n",
    "## 191001\n",
    "\n",
    "##08_3, 09_4, 10_1, 10_2, 10_3, 11_4"
   ]
  },
  {
   "cell_type": "code",
   "execution_count": 129,
   "metadata": {},
   "outputs": [],
   "source": [
    "nar_id = np.array([],dtype='int64')\n",
    "nar_time = np.array([],dtype='int16')\n",
    "nar_aqop = np.array([],dtype='int8')"
   ]
  },
  {
   "cell_type": "code",
   "execution_count": 142,
   "metadata": {},
   "outputs": [],
   "source": [
    "nar_id_uni = np.array([],dtype='int64')\n",
    "nar_time_uni = np.array([],dtype='int16')\n",
    "nar_aqop_uni = np.array([],dtype='int8')"
   ]
  },
  {
   "cell_type": "code",
   "execution_count": 140,
   "metadata": {},
   "outputs": [],
   "source": [
    "intable = intable_11_4\n",
    "\n",
    "nar_id = np.append(nar_id,intable['name'][np.in1d(intable['name'], narrowtable_191001['id'])])\n",
    "nar_time = np.append(nar_time,[1200*2]*sum(np.in1d(intable['name'], narrowtable_191001['id'])))\n",
    "nar_aqop = np.append(nar_aqop,intable['qop'][np.in1d(intable['name'], narrowtable_191001['id'])])"
   ]
  },
  {
   "cell_type": "code",
   "execution_count": 141,
   "metadata": {},
   "outputs": [
    {
     "data": {
      "text/plain": [
       "60"
      ]
     },
     "execution_count": 141,
     "metadata": {},
     "output_type": "execute_result"
    }
   ],
   "source": [
    "len(nar_id)"
   ]
  },
  {
   "cell_type": "code",
   "execution_count": 143,
   "metadata": {},
   "outputs": [],
   "source": [
    "nar_id_uni = np.unique(nar_id)\n",
    "for i in range(len(nar_id_uni)):\n",
    "    nar_aqop_uni = np.append(nar_aqop_uni,max(nar_aqop[np.in1d(nar_id, nar_id_uni[i])]))\n",
    "    nar_time_uni = np.append(nar_time_uni,sum(nar_time[np.in1d(nar_id, nar_id_uni[i])]))"
   ]
  },
  {
   "cell_type": "code",
   "execution_count": 144,
   "metadata": {},
   "outputs": [
    {
     "data": {
      "text/plain": [
       "36"
      ]
     },
     "execution_count": 144,
     "metadata": {},
     "output_type": "execute_result"
    }
   ],
   "source": [
    "len(nar_id_uni)"
   ]
  },
  {
   "cell_type": "code",
   "execution_count": 181,
   "metadata": {},
   "outputs": [],
   "source": [
    "f = open('191001_record.txt', 'a+')\n",
    "#f.write('# coadd_obj_id   group   total_exposure_time(second)   auto_QOP   target_name\\n')\n",
    "for i in range(len(nar_id_uni)):\n",
    "    nar_tar = ''\n",
    "    if(sum(np.in1d(nar_id_uni[i],intable_08_3['name']))!=0):\n",
    "        nar_tar = nar_tar +',191001_conf05_p01_v2'\n",
    "    if(sum(np.in1d(nar_id_uni[i],intable_09_4['name']))!=0):\n",
    "        nar_tar = nar_tar +',191001_conf07_p1_v2'\n",
    "    if(sum(np.in1d(nar_id_uni[i],intable_10_1['name']))!=0):\n",
    "        nar_tar = nar_tar +',191001_conf00_w2_p0'\n",
    "    if(sum(np.in1d(nar_id_uni[i],intable_10_2['name']))!=0):\n",
    "        nar_tar = nar_tar +',191001_conf01_w2_p1'\n",
    "    if(sum(np.in1d(nar_id_uni[i],intable_10_3['name']))!=0):\n",
    "        nar_tar = nar_tar +',191001_conf02_w2_p0'\n",
    "    if(sum(np.in1d(nar_id_uni[i],intable_11_4['name']))!=0):\n",
    "        nar_tar = nar_tar +',191001_conf03_w2_p1'\n",
    "    f.write('{0:12}   {1:6}   {2:6}   {3:3}      {4:30}\\n'.format(nar_id_uni[i], 'narrow', nar_time_uni[i], nar_aqop_uni[i], nar_tar[1:]))\n",
    "f.close()"
   ]
  },
  {
   "cell_type": "code",
   "execution_count": null,
   "metadata": {},
   "outputs": [],
   "source": []
  },
  {
   "cell_type": "markdown",
   "metadata": {},
   "source": [
    "## 180924\n",
    "\n",
    "##09_1 09_2 09_3 11_1 11_2 11_3 12_1 16_1"
   ]
  },
  {
   "cell_type": "code",
   "execution_count": 282,
   "metadata": {},
   "outputs": [],
   "source": [
    "nar_id = np.array([],dtype='int64')\n",
    "nar_time = np.array([],dtype='int16')\n",
    "nar_aqop = np.array([],dtype='int8')\n",
    "\n",
    "nar_id_uni = np.array([],dtype='int64')\n",
    "nar_time_uni = np.array([],dtype='int16')\n",
    "nar_aqop_uni = np.array([],dtype='int8')"
   ]
  },
  {
   "cell_type": "code",
   "execution_count": 297,
   "metadata": {},
   "outputs": [],
   "source": [
    "intable = intable_16_1\n",
    "\n",
    "nar_id = np.append(nar_id,intable['name'][np.in1d(intable['name'], narrowtable_180924['id'])])\n",
    "nar_time = np.append(nar_time,[1200*2]*sum(np.in1d(intable['name'], narrowtable_180924['id'])))\n",
    "nar_aqop = np.append(nar_aqop,intable['qop'][np.in1d(intable['name'], narrowtable_180924['id'])])"
   ]
  },
  {
   "cell_type": "code",
   "execution_count": 298,
   "metadata": {},
   "outputs": [
    {
     "data": {
      "text/plain": [
       "55"
      ]
     },
     "execution_count": 298,
     "metadata": {},
     "output_type": "execute_result"
    }
   ],
   "source": [
    "len(nar_id)"
   ]
  },
  {
   "cell_type": "code",
   "execution_count": 299,
   "metadata": {},
   "outputs": [],
   "source": [
    "nar_id_uni = np.unique(nar_id)\n",
    "for i in range(len(nar_id_uni)):\n",
    "    nar_aqop_uni = np.append(nar_aqop_uni,max(nar_aqop[np.in1d(nar_id, nar_id_uni[i])]))\n",
    "    nar_time_uni = np.append(nar_time_uni,sum(nar_time[np.in1d(nar_id, nar_id_uni[i])]))"
   ]
  },
  {
   "cell_type": "code",
   "execution_count": 300,
   "metadata": {},
   "outputs": [
    {
     "data": {
      "text/plain": [
       "32"
      ]
     },
     "execution_count": 300,
     "metadata": {},
     "output_type": "execute_result"
    }
   ],
   "source": [
    "len(nar_id_uni)"
   ]
  },
  {
   "cell_type": "code",
   "execution_count": 301,
   "metadata": {},
   "outputs": [],
   "source": [
    "f = open('180924_narrow_obs.txt', 'a+')\n",
    "f.write('# coadd_obj_id   group   total_exposure_time(second)   auto_QOP   target_name\\n')\n",
    "for i in range(len(nar_id_uni)):\n",
    "    nar_tar = ''\n",
    "    if(sum(np.in1d(nar_id_uni[i],intable_09_1['name']))!=0):\n",
    "        nar_tar = nar_tar +',180924_conf00_p0'\n",
    "    if(sum(np.in1d(nar_id_uni[i],intable_09_2['name']))!=0):\n",
    "        nar_tar = nar_tar +',180924_conf01_p1'\n",
    "    if(sum(np.in1d(nar_id_uni[i],intable_09_3['name']))!=0):\n",
    "        nar_tar = nar_tar +',180924_conf02_p0'\n",
    "    if(sum(np.in1d(nar_id_uni[i],intable_11_1['name']))!=0):\n",
    "        nar_tar = nar_tar +',180924_conf00_w2_p0'\n",
    "    if(sum(np.in1d(nar_id_uni[i],intable_11_2['name']))!=0):\n",
    "        nar_tar = nar_tar +',180924_conf01_w2_p1'\n",
    "    if(sum(np.in1d(nar_id_uni[i],intable_11_3['name']))!=0):\n",
    "        nar_tar = nar_tar +',180924_conf03_w2_p1'\n",
    "    if(sum(np.in1d(nar_id_uni[i],intable_12_1['name']))!=0):\n",
    "        nar_tar = nar_tar +',180924_conf02_w2_p0'\n",
    "    if(sum(np.in1d(nar_id_uni[i],intable_16_1['name']))!=0):\n",
    "        nar_tar = nar_tar +',180924_conf03_p1'\n",
    "    f.write('{0:12}   {1:6}   {2:6}   {3:3}      {4:30}\\n'.format(nar_id_uni[i], 'narrow', nar_time_uni[i], nar_aqop_uni[i], nar_tar[1:]))\n",
    "f.close()"
   ]
  },
  {
   "cell_type": "code",
   "execution_count": null,
   "metadata": {},
   "outputs": [],
   "source": []
  },
  {
   "cell_type": "code",
   "execution_count": null,
   "metadata": {},
   "outputs": [],
   "source": []
  },
  {
   "cell_type": "markdown",
   "metadata": {},
   "source": [
    "# unobserved\n",
    "## 191001\n",
    "### narrow"
   ]
  },
  {
   "cell_type": "code",
   "execution_count": null,
   "metadata": {},
   "outputs": [],
   "source": [
    "#save file with rmag<22.0 d<5arcmin photz_l95<zfrb"
   ]
  },
  {
   "cell_type": "code",
   "execution_count": 191,
   "metadata": {},
   "outputs": [],
   "source": [
    "photzfil = '/Users/huangyuxin/Desktop/graduate_study/FRB_files/configure/test/photz_F191001_narrow.zout'\n",
    "photz = ascii.read(photzfil, format='commented_header')"
   ]
  },
  {
   "cell_type": "code",
   "execution_count": 207,
   "metadata": {},
   "outputs": [],
   "source": [
    "zfrb = 0.23\n",
    "iin = np.where(photz['l95']<zfrb)\n",
    "iin1 = np.in1d(narrowtable_191001['id'],photz['id'][iin])\n",
    "nar_ft = narrowtable_191001[iin1]"
   ]
  },
  {
   "cell_type": "code",
   "execution_count": 208,
   "metadata": {},
   "outputs": [
    {
     "data": {
      "text/plain": [
       "array([ True,  True,  True,  True,  True,  True,  True,  True,  True,\n",
       "        True,  True,  True,  True,  True,  True,  True,  True,  True,\n",
       "        True,  True,  True,  True,  True,  True,  True,  True,  True,\n",
       "        True,  True,  True,  True,  True,  True,  True,  True,  True])"
      ]
     },
     "execution_count": 208,
     "metadata": {},
     "output_type": "execute_result"
    }
   ],
   "source": [
    "np.in1d(nar_id_uni,nar_ft['id'])"
   ]
  },
  {
   "cell_type": "code",
   "execution_count": 211,
   "metadata": {},
   "outputs": [
    {
     "data": {
      "text/plain": [
       "49"
      ]
     },
     "execution_count": 211,
     "metadata": {},
     "output_type": "execute_result"
    }
   ],
   "source": [
    "len(nar_ft)"
   ]
  },
  {
   "cell_type": "code",
   "execution_count": 222,
   "metadata": {},
   "outputs": [],
   "source": [
    "f = open('FRB191001_22.0_narrow_photz_ft.txt', 'a+')\n",
    "for tab in nar_ft:\n",
    "    outstr = '{0:12}   {1:02d} {2:02d} {3:06.3f}  {4:+02d} {5:02d} {6:06.3f}   {7:1}   {8:1d}   {9:6.3f}  {10:1d}  {11:+7.4f} {12:+7.4f}   \\n'.format(tab['id'], tab['ra_h'], tab['ra_m'], tab['ra_s'], tab['dec_d'], tab['dec_m'], tab['dec_s'], tab['flag'], tab['pro'], tab['mag'], tab['projid'], tab['vra'], tab['vdec'])\n",
    "    f.write(outstr)\n",
    "f.close()"
   ]
  },
  {
   "cell_type": "code",
   "execution_count": null,
   "metadata": {},
   "outputs": [],
   "source": [
    "###########"
   ]
  },
  {
   "cell_type": "code",
   "execution_count": 186,
   "metadata": {},
   "outputs": [],
   "source": [
    "file = '/Users/huangyuxin/Downloads/auto_md/191001_record.txt'\n",
    "intable = ascii.read(file, data_start=0, names=('id', 'group', 'time', 'qop', 'target'))"
   ]
  },
  {
   "cell_type": "code",
   "execution_count": 228,
   "metadata": {},
   "outputs": [],
   "source": [
    "iin = ~np.in1d(nar_ft['id'],intable['id'])\n",
    "table = nar_ft['id'][iin]"
   ]
  },
  {
   "cell_type": "code",
   "execution_count": 234,
   "metadata": {},
   "outputs": [],
   "source": [
    "f = open('191001_narrow_unobs.txt', 'w+')\n",
    "f.write('# coadd_obj_id   group   total_exposure_time(second)   auto_QOP   target_name\\n')\n",
    "for i in range(len(table)):\n",
    "    f.write('{0:12}   {1:6}     {2:6}   {3:3}      {4:30}\\n'.format(table[i], 'narrow', 'unobs', 'unobs', 'unobs'))\n",
    "f.close()"
   ]
  },
  {
   "cell_type": "markdown",
   "metadata": {},
   "source": [
    "### wide"
   ]
  },
  {
   "cell_type": "code",
   "execution_count": 235,
   "metadata": {},
   "outputs": [],
   "source": [
    "file = '/Users/huangyuxin/Downloads/auto_md/191001_record.txt'\n",
    "intable = ascii.read(file, data_start=0, names=('id', 'group', 'time', 'qop', 'target'))"
   ]
  },
  {
   "cell_type": "code",
   "execution_count": 240,
   "metadata": {},
   "outputs": [],
   "source": [
    "iin = ~np.in1d(mastable_191001['id'],intable['id'])\n",
    "table = mastable_191001['id'][iin]"
   ]
  },
  {
   "cell_type": "code",
   "execution_count": 247,
   "metadata": {},
   "outputs": [],
   "source": [
    "f = open('191001_wide_unobs.txt', 'w+')\n",
    "f.write('# coadd_obj_id   group   total_exposure_time(second)   auto_QOP   target_name\\n')\n",
    "for i in range(len(table)):\n",
    "    f.write('   {0:12}{1:6}     {2:6}   {3:3}      {4:30}\\n'.format(table[i], 'wide', 'unobs', 'unobs', 'unobs'))\n",
    "f.close()"
   ]
  },
  {
   "cell_type": "code",
   "execution_count": null,
   "metadata": {},
   "outputs": [],
   "source": []
  },
  {
   "cell_type": "markdown",
   "metadata": {},
   "source": [
    "## 180924\n",
    "### narrow"
   ]
  },
  {
   "cell_type": "code",
   "execution_count": null,
   "metadata": {},
   "outputs": [],
   "source": [
    "#save file with rmag<22.0 d<5arcmin photz_l95<zfrb"
   ]
  },
  {
   "cell_type": "code",
   "execution_count": 302,
   "metadata": {},
   "outputs": [],
   "source": [
    "photzfil = '/Users/huangyuxin/Desktop/graduate_study/FRB_files/configure/test/photz_F180924_narrow.zout'\n",
    "photz = ascii.read(photzfil, format='commented_header')"
   ]
  },
  {
   "cell_type": "code",
   "execution_count": 304,
   "metadata": {},
   "outputs": [],
   "source": [
    "zfrb = 0.32\n",
    "iin = np.where(photz['l95']<zfrb)\n",
    "iin1 = np.in1d(narrowtable_180924['id'],photz['id'][iin])\n",
    "nar_ft = narrowtable_180924[iin1]"
   ]
  },
  {
   "cell_type": "code",
   "execution_count": 305,
   "metadata": {},
   "outputs": [
    {
     "data": {
      "text/plain": [
       "array([ True,  True,  True,  True,  True,  True,  True,  True,  True,\n",
       "        True,  True,  True,  True,  True,  True,  True,  True,  True,\n",
       "        True,  True,  True,  True,  True,  True,  True,  True,  True,\n",
       "        True,  True,  True,  True,  True])"
      ]
     },
     "execution_count": 305,
     "metadata": {},
     "output_type": "execute_result"
    }
   ],
   "source": [
    "np.in1d(nar_id_uni,nar_ft['id'])"
   ]
  },
  {
   "cell_type": "code",
   "execution_count": 306,
   "metadata": {},
   "outputs": [
    {
     "data": {
      "text/plain": [
       "50"
      ]
     },
     "execution_count": 306,
     "metadata": {},
     "output_type": "execute_result"
    }
   ],
   "source": [
    "len(nar_ft)"
   ]
  },
  {
   "cell_type": "code",
   "execution_count": 307,
   "metadata": {},
   "outputs": [],
   "source": [
    "f = open('FRB180924_22.0_narrow_photz_ft.txt', 'a+')\n",
    "for tab in nar_ft:\n",
    "    outstr = '{0:12}   {1:02d} {2:02d} {3:06.3f}  {4:+02d} {5:02d} {6:06.3f}   {7:1}   {8:1d}   {9:6.3f}  {10:1d}  {11:+7.4f} {12:+7.4f}   \\n'.format(tab['id'], tab['ra_h'], tab['ra_m'], tab['ra_s'], tab['dec_d'], tab['dec_m'], tab['dec_s'], tab['flag'], tab['pro'], tab['mag'], tab['projid'], tab['vra'], tab['vdec'])\n",
    "    f.write(outstr)\n",
    "f.close()"
   ]
  },
  {
   "cell_type": "code",
   "execution_count": null,
   "metadata": {},
   "outputs": [],
   "source": [
    "############"
   ]
  },
  {
   "cell_type": "code",
   "execution_count": 308,
   "metadata": {},
   "outputs": [],
   "source": [
    "file = '/Users/huangyuxin/Downloads/auto_md/180924_record.txt'\n",
    "intable = ascii.read(file, data_start=0, names=('id', 'group', 'time', 'qop', 'target'))"
   ]
  },
  {
   "cell_type": "code",
   "execution_count": 309,
   "metadata": {},
   "outputs": [],
   "source": [
    "iin = ~np.in1d(nar_ft['id'],intable['id'])\n",
    "table = nar_ft['id'][iin]"
   ]
  },
  {
   "cell_type": "code",
   "execution_count": 310,
   "metadata": {},
   "outputs": [],
   "source": [
    "f = open('180924_narrow_unobs.txt', 'w+')\n",
    "f.write('# coadd_obj_id   group   total_exposure_time(second)   auto_QOP   target_name\\n')\n",
    "for i in range(len(table)):\n",
    "    f.write('{0:12}   {1:6}     {2:6}   {3:3}      {4:30}\\n'.format(table[i], 'narrow', 'unobs', 'unobs', 'unobs'))\n",
    "f.close()"
   ]
  },
  {
   "cell_type": "markdown",
   "metadata": {},
   "source": [
    "### wide"
   ]
  },
  {
   "cell_type": "code",
   "execution_count": 312,
   "metadata": {},
   "outputs": [],
   "source": [
    "file = '/Users/huangyuxin/Downloads/auto_md/180924_record.txt'\n",
    "intable = ascii.read(file, data_start=0, names=('id', 'group', 'time', 'qop', 'target'))"
   ]
  },
  {
   "cell_type": "code",
   "execution_count": 313,
   "metadata": {},
   "outputs": [],
   "source": [
    "iin = ~np.in1d(mastable_180924['id'],intable['id'])\n",
    "table = mastable_180924['id'][iin]"
   ]
  },
  {
   "cell_type": "code",
   "execution_count": 314,
   "metadata": {},
   "outputs": [],
   "source": [
    "f = open('180924_wide_unobs.txt', 'w+')\n",
    "f.write('# coadd_obj_id   group   total_exposure_time(second)   auto_QOP   target_name\\n')\n",
    "for i in range(len(table)):\n",
    "    f.write('   {0:12}{1:6}     {2:6}   {3:3}      {4:30}\\n'.format(table[i], 'wide', 'unobs', 'unobs', 'unobs'))\n",
    "f.close()"
   ]
  },
  {
   "cell_type": "code",
   "execution_count": null,
   "metadata": {},
   "outputs": [],
   "source": []
  },
  {
   "cell_type": "code",
   "execution_count": null,
   "metadata": {},
   "outputs": [],
   "source": []
  },
  {
   "cell_type": "code",
   "execution_count": null,
   "metadata": {},
   "outputs": [],
   "source": []
  },
  {
   "cell_type": "code",
   "execution_count": null,
   "metadata": {},
   "outputs": [],
   "source": []
  },
  {
   "cell_type": "markdown",
   "metadata": {},
   "source": [
    "# transfer to csv file"
   ]
  },
  {
   "cell_type": "code",
   "execution_count": 322,
   "metadata": {},
   "outputs": [],
   "source": [
    "file = '/Users/huangyuxin/Downloads/auto_md/180924_record.txt'\n",
    "intable = ascii.read(file, data_start=0, names=('id', 'group', 'time', 'qop', 'target'))\n",
    "dataf = pd.read_table(file,delim_whitespace=True, skiprows=0)"
   ]
  },
  {
   "cell_type": "code",
   "execution_count": 323,
   "metadata": {},
   "outputs": [
    {
     "data": {
      "text/html": [
       "<div>\n",
       "<style scoped>\n",
       "    .dataframe tbody tr th:only-of-type {\n",
       "        vertical-align: middle;\n",
       "    }\n",
       "\n",
       "    .dataframe tbody tr th {\n",
       "        vertical-align: top;\n",
       "    }\n",
       "\n",
       "    .dataframe thead th {\n",
       "        text-align: right;\n",
       "    }\n",
       "</style>\n",
       "<table border=\"1\" class=\"dataframe\">\n",
       "  <thead>\n",
       "    <tr style=\"text-align: right;\">\n",
       "      <th></th>\n",
       "      <th>coadd_obj_id</th>\n",
       "      <th>group</th>\n",
       "      <th>total_exposure_time(second)</th>\n",
       "      <th>auto_QOP</th>\n",
       "      <th>target_name</th>\n",
       "    </tr>\n",
       "  </thead>\n",
       "  <tbody>\n",
       "    <tr>\n",
       "      <th>0</th>\n",
       "      <td>239134103</td>\n",
       "      <td>wide</td>\n",
       "      <td>2700</td>\n",
       "      <td>4</td>\n",
       "      <td>180924_conf00_p0</td>\n",
       "    </tr>\n",
       "    <tr>\n",
       "      <th>1</th>\n",
       "      <td>209912271</td>\n",
       "      <td>wide</td>\n",
       "      <td>2700</td>\n",
       "      <td>4</td>\n",
       "      <td>180924_conf00_p0</td>\n",
       "    </tr>\n",
       "    <tr>\n",
       "      <th>2</th>\n",
       "      <td>239135914</td>\n",
       "      <td>wide</td>\n",
       "      <td>2700</td>\n",
       "      <td>3</td>\n",
       "      <td>180924_conf00_p0</td>\n",
       "    </tr>\n",
       "    <tr>\n",
       "      <th>3</th>\n",
       "      <td>214683286</td>\n",
       "      <td>wide</td>\n",
       "      <td>2700</td>\n",
       "      <td>4</td>\n",
       "      <td>180924_conf00_p0</td>\n",
       "    </tr>\n",
       "    <tr>\n",
       "      <th>4</th>\n",
       "      <td>214684712</td>\n",
       "      <td>wide</td>\n",
       "      <td>2700</td>\n",
       "      <td>2</td>\n",
       "      <td>180924_conf00_p0</td>\n",
       "    </tr>\n",
       "    <tr>\n",
       "      <th>...</th>\n",
       "      <td>...</td>\n",
       "      <td>...</td>\n",
       "      <td>...</td>\n",
       "      <td>...</td>\n",
       "      <td>...</td>\n",
       "    </tr>\n",
       "    <tr>\n",
       "      <th>4701</th>\n",
       "      <td>239124166</td>\n",
       "      <td>wide</td>\n",
       "      <td>unobs</td>\n",
       "      <td>unobs</td>\n",
       "      <td>unobs</td>\n",
       "    </tr>\n",
       "    <tr>\n",
       "      <th>4702</th>\n",
       "      <td>239125038</td>\n",
       "      <td>wide</td>\n",
       "      <td>unobs</td>\n",
       "      <td>unobs</td>\n",
       "      <td>unobs</td>\n",
       "    </tr>\n",
       "    <tr>\n",
       "      <th>4703</th>\n",
       "      <td>239122027</td>\n",
       "      <td>wide</td>\n",
       "      <td>unobs</td>\n",
       "      <td>unobs</td>\n",
       "      <td>unobs</td>\n",
       "    </tr>\n",
       "    <tr>\n",
       "      <th>4704</th>\n",
       "      <td>239125730</td>\n",
       "      <td>wide</td>\n",
       "      <td>unobs</td>\n",
       "      <td>unobs</td>\n",
       "      <td>unobs</td>\n",
       "    </tr>\n",
       "    <tr>\n",
       "      <th>4705</th>\n",
       "      <td>239128712</td>\n",
       "      <td>wide</td>\n",
       "      <td>unobs</td>\n",
       "      <td>unobs</td>\n",
       "      <td>unobs</td>\n",
       "    </tr>\n",
       "  </tbody>\n",
       "</table>\n",
       "<p>4706 rows × 5 columns</p>\n",
       "</div>"
      ],
      "text/plain": [
       "      coadd_obj_id group total_exposure_time(second) auto_QOP  \\\n",
       "0        239134103  wide                        2700        4   \n",
       "1        209912271  wide                        2700        4   \n",
       "2        239135914  wide                        2700        3   \n",
       "3        214683286  wide                        2700        4   \n",
       "4        214684712  wide                        2700        2   \n",
       "...            ...   ...                         ...      ...   \n",
       "4701     239124166  wide                       unobs    unobs   \n",
       "4702     239125038  wide                       unobs    unobs   \n",
       "4703     239122027  wide                       unobs    unobs   \n",
       "4704     239125730  wide                       unobs    unobs   \n",
       "4705     239128712  wide                       unobs    unobs   \n",
       "\n",
       "           target_name  \n",
       "0     180924_conf00_p0  \n",
       "1     180924_conf00_p0  \n",
       "2     180924_conf00_p0  \n",
       "3     180924_conf00_p0  \n",
       "4     180924_conf00_p0  \n",
       "...                ...  \n",
       "4701             unobs  \n",
       "4702             unobs  \n",
       "4703             unobs  \n",
       "4704             unobs  \n",
       "4705             unobs  \n",
       "\n",
       "[4706 rows x 5 columns]"
      ]
     },
     "execution_count": 323,
     "metadata": {},
     "output_type": "execute_result"
    }
   ],
   "source": [
    "dataf"
   ]
  },
  {
   "cell_type": "code",
   "execution_count": 324,
   "metadata": {},
   "outputs": [],
   "source": [
    "dataf.to_csv(\"FRB180924_record.csv\",index=False,sep=',')"
   ]
  },
  {
   "cell_type": "code",
   "execution_count": null,
   "metadata": {},
   "outputs": [],
   "source": []
  },
  {
   "cell_type": "code",
   "execution_count": null,
   "metadata": {},
   "outputs": [],
   "source": []
  },
  {
   "cell_type": "markdown",
   "metadata": {},
   "source": [
    "# pick qop = 3 & 4 galaxies\n",
    "\n",
    "## wide_obs"
   ]
  },
  {
   "cell_type": "code",
   "execution_count": 66,
   "metadata": {},
   "outputs": [],
   "source": [
    "file = '/Users/huangyuxin/Downloads/auto_md/180924_record_file/180924_wide_obs.txt'\n",
    "#intable = ascii.read(file, data_start=0, names=('id', 'group', 'time', 'qop', 'target'))\n",
    "#intable = intable[intable['qop']==3]\n",
    "dataf = pd.read_table(file,delim_whitespace=True, skiprows=0)"
   ]
  },
  {
   "cell_type": "code",
   "execution_count": 67,
   "metadata": {},
   "outputs": [
    {
     "data": {
      "text/html": [
       "<div>\n",
       "<style scoped>\n",
       "    .dataframe tbody tr th:only-of-type {\n",
       "        vertical-align: middle;\n",
       "    }\n",
       "\n",
       "    .dataframe tbody tr th {\n",
       "        vertical-align: top;\n",
       "    }\n",
       "\n",
       "    .dataframe thead th {\n",
       "        text-align: right;\n",
       "    }\n",
       "</style>\n",
       "<table border=\"1\" class=\"dataframe\">\n",
       "  <thead>\n",
       "    <tr style=\"text-align: right;\">\n",
       "      <th></th>\n",
       "      <th>coadd_obj_id</th>\n",
       "      <th>group</th>\n",
       "      <th>total_exposure_time(second)</th>\n",
       "      <th>auto_QOP</th>\n",
       "      <th>target_name</th>\n",
       "    </tr>\n",
       "  </thead>\n",
       "  <tbody>\n",
       "    <tr>\n",
       "      <th>0</th>\n",
       "      <td>239134103</td>\n",
       "      <td>wide</td>\n",
       "      <td>2700</td>\n",
       "      <td>4</td>\n",
       "      <td>180924_conf00_p0</td>\n",
       "    </tr>\n",
       "    <tr>\n",
       "      <th>1</th>\n",
       "      <td>209912271</td>\n",
       "      <td>wide</td>\n",
       "      <td>2700</td>\n",
       "      <td>4</td>\n",
       "      <td>180924_conf00_p0</td>\n",
       "    </tr>\n",
       "    <tr>\n",
       "      <th>2</th>\n",
       "      <td>239135914</td>\n",
       "      <td>wide</td>\n",
       "      <td>2700</td>\n",
       "      <td>3</td>\n",
       "      <td>180924_conf00_p0</td>\n",
       "    </tr>\n",
       "    <tr>\n",
       "      <th>3</th>\n",
       "      <td>214683286</td>\n",
       "      <td>wide</td>\n",
       "      <td>2700</td>\n",
       "      <td>4</td>\n",
       "      <td>180924_conf00_p0</td>\n",
       "    </tr>\n",
       "    <tr>\n",
       "      <th>5</th>\n",
       "      <td>214682843</td>\n",
       "      <td>wide</td>\n",
       "      <td>2700</td>\n",
       "      <td>3</td>\n",
       "      <td>180924_conf00_p0</td>\n",
       "    </tr>\n",
       "    <tr>\n",
       "      <th>...</th>\n",
       "      <td>...</td>\n",
       "      <td>...</td>\n",
       "      <td>...</td>\n",
       "      <td>...</td>\n",
       "      <td>...</td>\n",
       "    </tr>\n",
       "    <tr>\n",
       "      <th>2787</th>\n",
       "      <td>214677633</td>\n",
       "      <td>wide</td>\n",
       "      <td>2400</td>\n",
       "      <td>3</td>\n",
       "      <td>180924_conf03_p1</td>\n",
       "    </tr>\n",
       "    <tr>\n",
       "      <th>2788</th>\n",
       "      <td>214679561</td>\n",
       "      <td>wide</td>\n",
       "      <td>2400</td>\n",
       "      <td>4</td>\n",
       "      <td>180924_conf03_p1</td>\n",
       "    </tr>\n",
       "    <tr>\n",
       "      <th>2789</th>\n",
       "      <td>214679637</td>\n",
       "      <td>wide</td>\n",
       "      <td>2400</td>\n",
       "      <td>4</td>\n",
       "      <td>180924_conf03_p1</td>\n",
       "    </tr>\n",
       "    <tr>\n",
       "      <th>2790</th>\n",
       "      <td>239130994</td>\n",
       "      <td>wide</td>\n",
       "      <td>2400</td>\n",
       "      <td>3</td>\n",
       "      <td>180924_conf03_p1</td>\n",
       "    </tr>\n",
       "    <tr>\n",
       "      <th>2791</th>\n",
       "      <td>214680482</td>\n",
       "      <td>wide</td>\n",
       "      <td>2400</td>\n",
       "      <td>4</td>\n",
       "      <td>180924_conf03_p1</td>\n",
       "    </tr>\n",
       "  </tbody>\n",
       "</table>\n",
       "<p>2064 rows × 5 columns</p>\n",
       "</div>"
      ],
      "text/plain": [
       "      coadd_obj_id group  total_exposure_time(second)  auto_QOP  \\\n",
       "0        239134103  wide                         2700         4   \n",
       "1        209912271  wide                         2700         4   \n",
       "2        239135914  wide                         2700         3   \n",
       "3        214683286  wide                         2700         4   \n",
       "5        214682843  wide                         2700         3   \n",
       "...            ...   ...                          ...       ...   \n",
       "2787     214677633  wide                         2400         3   \n",
       "2788     214679561  wide                         2400         4   \n",
       "2789     214679637  wide                         2400         4   \n",
       "2790     239130994  wide                         2400         3   \n",
       "2791     214680482  wide                         2400         4   \n",
       "\n",
       "           target_name  \n",
       "0     180924_conf00_p0  \n",
       "1     180924_conf00_p0  \n",
       "2     180924_conf00_p0  \n",
       "3     180924_conf00_p0  \n",
       "5     180924_conf00_p0  \n",
       "...                ...  \n",
       "2787  180924_conf03_p1  \n",
       "2788  180924_conf03_p1  \n",
       "2789  180924_conf03_p1  \n",
       "2790  180924_conf03_p1  \n",
       "2791  180924_conf03_p1  \n",
       "\n",
       "[2064 rows x 5 columns]"
      ]
     },
     "execution_count": 67,
     "metadata": {},
     "output_type": "execute_result"
    }
   ],
   "source": [
    "dataf = dataf[np.in1d(dataf['auto_QOP'],np.array([3,4]))]\n",
    "dataf"
   ]
  },
  {
   "cell_type": "code",
   "execution_count": 68,
   "metadata": {},
   "outputs": [],
   "source": [
    "dataf.to_csv(\"FRB180924_wide_qop3&4.csv\",index=False,sep=',')"
   ]
  },
  {
   "cell_type": "code",
   "execution_count": null,
   "metadata": {},
   "outputs": [],
   "source": []
  }
 ],
 "metadata": {
  "kernelspec": {
   "display_name": "Python 3",
   "language": "python",
   "name": "python3"
  },
  "language_info": {
   "codemirror_mode": {
    "name": "ipython",
    "version": 3
   },
   "file_extension": ".py",
   "mimetype": "text/x-python",
   "name": "python",
   "nbconvert_exporter": "python",
   "pygments_lexer": "ipython3",
   "version": "3.7.6"
  }
 },
 "nbformat": 4,
 "nbformat_minor": 4
}
