{
 "cells": [
  {
   "cell_type": "code",
   "execution_count": 7,
   "metadata": {},
   "outputs": [],
   "source": [
    "import numpy as np\n",
    "import matplotlib.pyplot as plt\n",
    "import pandas as pd\n",
    "from astropy.io import ascii"
   ]
  },
  {
   "cell_type": "code",
   "execution_count": 10,
   "metadata": {},
   "outputs": [],
   "source": [
    "file_08_1 = '/Users/huangyuxin/Downloads/auto_md/08/191001_conf01_p01_spliced_191001conf.mz'\n",
    "file_08_2 = '/Users/huangyuxin/Downloads/auto_md/08/191001_conf03_p01_spliced_191001conf.mz'\n",
    "file_08_3 = '/Users/huangyuxin/Downloads/auto_md/08/191001_conf05_p01_v2_spliced_191001conf.mz'\n",
    "\n",
    "file_09_1 = '/Users/huangyuxin/Downloads/auto_md/09/180924_conf00_p0_spliced_191001conf.mz'\n",
    "file_09_2 = '/Users/huangyuxin/Downloads/auto_md/09/180924_conf01_p1_spliced_191001conf.mz'\n",
    "file_09_3 = '/Users/huangyuxin/Downloads/auto_md/09/180924_conf02_p0_spliced_191001conf.mz'\n",
    "file_09_4 = '/Users/huangyuxin/Downloads/auto_md/09/191001_conf07_p1_v2_spliced_191001conf.mz'\n",
    "\n",
    "file_10_1 = '/Users/huangyuxin/Downloads/auto_md/10/191001_conf00_w2_p0_spliced_191001conf.mz'\n",
    "file_10_2 = '/Users/huangyuxin/Downloads/auto_md/10/191001_conf01_w2_p1_spliced_191001conf.mz'\n",
    "file_10_3 = '/Users/huangyuxin/Downloads/auto_md/10/191001_conf02_w2_p0_spliced_191001conf.mz'\n",
    "\n",
    "file_11_1 = '/Users/huangyuxin/Downloads/auto_md/11/180924_conf00_w2_p0_spliced_191001conf.mz'\n",
    "file_11_2 = '/Users/huangyuxin/Downloads/auto_md/11/180924_conf01_w2_p1_spliced_191001conf.mz'\n",
    "file_11_3 = '/Users/huangyuxin/Downloads/auto_md/11/180924_conf03_w2_p1_spliced_191001conf.mz'\n",
    "file_11_4 = '/Users/huangyuxin/Downloads/auto_md/11/191001_conf03_w2_p1_spliced_191001conf.mz'\n",
    "#file_11_5 = '/Users/huangyuxin/Downloads/auto_md/11/191001_conf04_w2_p0_spliced_191001conf.mz'\n",
    "\n",
    "file_12_1 = '/Users/huangyuxin/Downloads/auto_md/12/180924_conf02_w2_p0_spliced_191001conf.mz'\n",
    "\n",
    "file_16_1 = '/Users/huangyuxin/Downloads/auto_md/16/180924_conf03_p1_spliced_191001conf.mz'\n",
    "file_16_2 = '/Users/huangyuxin/Downloads/auto_md/16/181112_p2_conf00_p0_spliced_191001conf.mz'\n",
    "file_16_3 = '/Users/huangyuxin/Downloads/auto_md/16/181112_p2_conf01_p1_spliced_191001conf.mz'\n",
    "\n",
    "intable_08_1 = ascii.read(file_08_1, data_start=0, names=('id', 'name', 'ra', 'dec', 'mag', 'type', 'autotid', 'autotn','autoz',\n",
    "                                                'autoxcor', 'fintid', 'fintn', 'finz', 'qop', 'comment'))\n",
    "intable_08_2 = ascii.read(file_08_2, data_start=0, names=('id', 'name', 'ra', 'dec', 'mag', 'type', 'autotid', 'autotn','autoz',\n",
    "                                                'autoxcor', 'fintid', 'fintn', 'finz', 'qop', 'comment'))\n",
    "intable_08_3 = ascii.read(file_08_3, data_start=0, names=('id', 'name', 'ra', 'dec', 'mag', 'type', 'autotid', 'autotn','autoz',\n",
    "                                                'autoxcor', 'fintid', 'fintn', 'finz', 'qop', 'comment'))\n",
    "\n",
    "intable_09_1 = ascii.read(file_09_1, data_start=0, names=('id', 'name', 'ra', 'dec', 'mag', 'type', 'autotid', 'autotn','autoz',\n",
    "                                                'autoxcor', 'fintid', 'fintn', 'finz', 'qop', 'comment'))\n",
    "intable_09_2 = ascii.read(file_09_2, data_start=0, names=('id', 'name', 'ra', 'dec', 'mag', 'type', 'autotid', 'autotn','autoz',\n",
    "                                                'autoxcor', 'fintid', 'fintn', 'finz', 'qop', 'comment'))\n",
    "intable_09_3 = ascii.read(file_09_3, data_start=0, names=('id', 'name', 'ra', 'dec', 'mag', 'type', 'autotid', 'autotn','autoz',\n",
    "                                                'autoxcor', 'fintid', 'fintn', 'finz', 'qop', 'comment'))\n",
    "intable_09_4 = ascii.read(file_09_4, data_start=0, names=('id', 'name', 'ra', 'dec', 'mag', 'type', 'autotid', 'autotn','autoz',\n",
    "                                                'autoxcor', 'fintid', 'fintn', 'finz', 'qop', 'comment'))\n",
    "\n",
    "intable_10_1 = ascii.read(file_10_1, data_start=0, names=('id', 'name', 'ra', 'dec', 'mag', 'type', 'autotid', 'autotn','autoz',\n",
    "                                                'autoxcor', 'fintid', 'fintn', 'finz', 'qop', 'comment'))\n",
    "intable_10_2 = ascii.read(file_10_2, data_start=0, names=('id', 'name', 'ra', 'dec', 'mag', 'type', 'autotid', 'autotn','autoz',\n",
    "                                                'autoxcor', 'fintid', 'fintn', 'finz', 'qop', 'comment'))\n",
    "intable_10_3 = ascii.read(file_10_3, data_start=0, names=('id', 'name', 'ra', 'dec', 'mag', 'type', 'autotid', 'autotn','autoz',\n",
    "                                                'autoxcor', 'fintid', 'fintn', 'finz', 'qop', 'comment'))\n",
    "\n",
    "intable_11_1 = ascii.read(file_11_1, data_start=0, names=('id', 'name', 'ra', 'dec', 'mag', 'type', 'autotid', 'autotn','autoz',\n",
    "                                                'autoxcor', 'fintid', 'fintn', 'finz', 'qop', 'comment'))\n",
    "intable_11_2 = ascii.read(file_11_2, data_start=0, names=('id', 'name', 'ra', 'dec', 'mag', 'type', 'autotid', 'autotn','autoz',\n",
    "                                                'autoxcor', 'fintid', 'fintn', 'finz', 'qop', 'comment'))\n",
    "intable_11_3 = ascii.read(file_11_3, data_start=0, names=('id', 'name', 'ra', 'dec', 'mag', 'type', 'autotid', 'autotn','autoz',\n",
    "                                                'autoxcor', 'fintid', 'fintn', 'finz', 'qop', 'comment'))\n",
    "intable_11_4 = ascii.read(file_11_4, data_start=0, names=('id', 'name', 'ra', 'dec', 'mag', 'type', 'autotid', 'autotn','autoz',\n",
    "                                                'autoxcor', 'fintid', 'fintn', 'finz', 'qop', 'comment'))\n",
    "#intable_11_5 = ascii.read(file_11_5, data_start=0, names=('id', 'name', 'ra', 'dec', 'mag', 'type', 'autotid', 'autotn','autoz',\n",
    "#                                                'autoxcor', 'fintid', 'fintn', 'finz', 'qop', 'comment'))\n",
    "\n",
    "intable_12_1 = ascii.read(file_12_1, data_start=0, names=('id', 'name', 'ra', 'dec', 'mag', 'type', 'autotid', 'autotn','autoz',\n",
    "                                                'autoxcor', 'fintid', 'fintn', 'finz', 'qop', 'comment'))\n",
    "\n",
    "intable_16_1 = ascii.read(file_16_1, data_start=0, names=('id', 'name', 'ra', 'dec', 'mag', 'type', 'autotid', 'autotn','autoz',\n",
    "                                                'autoxcor', 'fintid', 'fintn', 'finz', 'qop', 'comment'))\n",
    "intable_16_2 = ascii.read(file_16_2, data_start=0, names=('id', 'name', 'ra', 'dec', 'mag', 'type', 'autotid', 'autotn','autoz',\n",
    "                                                'autoxcor', 'fintid', 'fintn', 'finz', 'qop', 'comment'))\n",
    "intable_16_3 = ascii.read(file_16_3, data_start=0, names=('id', 'name', 'ra', 'dec', 'mag', 'type', 'autotid', 'autotn','autoz',\n",
    "                                                'autoxcor', 'fintid', 'fintn', 'finz', 'qop', 'comment'))"
   ]
  },
  {
   "cell_type": "markdown",
   "metadata": {},
   "source": [
    "# 191001"
   ]
  },
  {
   "cell_type": "code",
   "execution_count": 50,
   "metadata": {},
   "outputs": [],
   "source": [
    "file = '/Users/huangyuxin/Downloads/auto_md/191001_record_file/191001_wide_obs.txt'\n",
    "dataf = pd.read_table(file,delim_whitespace=True, skiprows=0)"
   ]
  },
  {
   "cell_type": "code",
   "execution_count": 51,
   "metadata": {},
   "outputs": [],
   "source": [
    "dataf = dataf[np.in1d(dataf['auto_QOP'],np.array([3,4]))]"
   ]
  },
  {
   "cell_type": "code",
   "execution_count": 59,
   "metadata": {},
   "outputs": [
    {
     "name": "stdout",
     "output_type": "stream",
     "text": [
      "299\n",
      "287\n",
      "226\n",
      "0\n",
      "0\n",
      "0\n",
      "256\n",
      "308\n",
      "283\n",
      "74\n",
      "0\n",
      "0\n",
      "0\n",
      "9\n",
      "0\n",
      "0\n",
      "0\n",
      "0\n"
     ]
    }
   ],
   "source": [
    "intable = [intable_08_1,intable_08_2,intable_08_3,intable_09_1,intable_09_2,intable_09_3,intable_09_4,\n",
    "           intable_10_1,intable_10_2,intable_10_3,intable_11_1,intable_11_2,intable_11_3,intable_11_4,\n",
    "           intable_12_1,intable_16_1,intable_16_2,intable_16_3]\n",
    "finz = np.array([])\n",
    "for i in range(len(intable)):\n",
    "    z1 = intable[i][np.in1d(intable[i]['name'],dataf['coadd_obj_id'])]['finz']\n",
    "    finz = np.append(finz,np.array(z1))\n",
    "    print(len(z1))"
   ]
  },
  {
   "cell_type": "code",
   "execution_count": 68,
   "metadata": {},
   "outputs": [
    {
     "data": {
      "image/png": "[encoded data removed]",
      "text/plain": [
       "<Figure size 432x288 with 1 Axes>"
      ]
     },
     "metadata": {
      "needs_background": "light"
     },
     "output_type": "display_data"
    }
   ],
   "source": [
    "plt.hist(finz, bins=50, facecolor=\"blue\", edgecolor=\"black\", alpha=0.7)\n",
    "plt.xlabel(\"redshift\")\n",
    "plt.ylabel(\"number\")\n",
    "plt.title(\"FRB191001 redshift distribution histogram\")\n",
    "plt.savefig('FRB191001_fz_hist.png')\n",
    "plt.show()"
   ]
  },
  {
   "cell_type": "markdown",
   "metadata": {},
   "source": [
    "# 180924"
   ]
  },
  {
   "cell_type": "code",
   "execution_count": 69,
   "metadata": {},
   "outputs": [],
   "source": [
    "file = '/Users/huangyuxin/Downloads/auto_md/180924_record_file/180924_wide_obs.txt'\n",
    "dataf = pd.read_table(file,delim_whitespace=True, skiprows=0)"
   ]
  },
  {
   "cell_type": "code",
   "execution_count": 70,
   "metadata": {},
   "outputs": [],
   "source": [
    "dataf = dataf[np.in1d(dataf['auto_QOP'],np.array([3,4]))]"
   ]
  },
  {
   "cell_type": "code",
   "execution_count": 71,
   "metadata": {},
   "outputs": [
    {
     "name": "stdout",
     "output_type": "stream",
     "text": [
      "0\n",
      "0\n",
      "0\n",
      "281\n",
      "251\n",
      "182\n",
      "0\n",
      "0\n",
      "0\n",
      "0\n",
      "263\n",
      "304\n",
      "219\n",
      "0\n",
      "253\n",
      "311\n",
      "0\n",
      "0\n"
     ]
    }
   ],
   "source": [
    "intable = [intable_08_1,intable_08_2,intable_08_3,intable_09_1,intable_09_2,intable_09_3,intable_09_4,\n",
    "           intable_10_1,intable_10_2,intable_10_3,intable_11_1,intable_11_2,intable_11_3,intable_11_4,\n",
    "           intable_12_1,intable_16_1,intable_16_2,intable_16_3]\n",
    "finz = np.array([])\n",
    "for i in range(len(intable)):\n",
    "    z1 = intable[i][np.in1d(intable[i]['name'],dataf['coadd_obj_id'])]['finz']\n",
    "    finz = np.append(finz,np.array(z1))\n",
    "    print(len(z1))"
   ]
  },
  {
   "cell_type": "code",
   "execution_count": 72,
   "metadata": {},
   "outputs": [
    {
     "data": {
      "image/png": "[encoded data removed]",
      "text/plain": [
       "<Figure size 432x288 with 1 Axes>"
      ]
     },
     "metadata": {
      "needs_background": "light"
     },
     "output_type": "display_data"
    }
   ],
   "source": [
    "plt.hist(finz, bins=50, facecolor=\"blue\", edgecolor=\"black\", alpha=0.7)\n",
    "plt.xlabel(\"redshift\")\n",
    "plt.ylabel(\"number\")\n",
    "plt.title(\"FRB180924 redshift distribution histogram\")\n",
    "plt.savefig('FRB180924_fz_hist.png')\n",
    "plt.show()"
   ]
  },
  {
   "cell_type": "code",
   "execution_count": null,
   "metadata": {},
   "outputs": [],
   "source": []
  }
 ],
 "metadata": {
  "kernelspec": {
   "display_name": "Python 3",
   "language": "python",
   "name": "python3"
  },
  "language_info": {
   "codemirror_mode": {
    "name": "ipython",
    "version": 3
   },
   "file_extension": ".py",
   "mimetype": "text/x-python",
   "name": "python",
   "nbconvert_exporter": "python",
   "pygments_lexer": "ipython3",
   "version": "3.7.6"
  }
 },
 "nbformat": 4,
 "nbformat_minor": 4
}
