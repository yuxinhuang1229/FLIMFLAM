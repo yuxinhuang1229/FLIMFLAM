{
 "cells": [
  {
   "cell_type": "code",
   "execution_count": 1,
   "metadata": {},
   "outputs": [],
   "source": [
    "import numpy as np\n",
    "from astropy.io import ascii\n",
    "from astropy.table import Table\n",
    "from astropy.coordinates import SkyCoord"
   ]
  },
  {
   "cell_type": "code",
   "execution_count": 595,
   "metadata": {},
   "outputs": [
    {
     "name": "stdout",
     "output_type": "stream",
     "text": [
      "Removing 1424 objects that have already been configured\n",
      "Removing 0 narrow objects that have already included in narrow file\n"
     ]
    }
   ],
   "source": [
    "mastercatfil = './FRB180924.txt'\n",
    "mastercatfil_nar = './FRB180924_22.0_narrow.txt'\n",
    "\n",
    "# This file lists already configured files (File -> List -> Allocated in 'configure')\n",
    "configlistfil = './outlist_FRB180924.txt'\n",
    "\n",
    "outputsuffix = './FRB180924_2020B_'\n",
    "\n",
    "#np.random.seed(seed=randseed)\n",
    "\n",
    "\n",
    "# These are the number of objects to go into the FLD file. For the sky and guide, we want a bit more objects than we will target.\n",
    "#nobj=2000\n",
    "#nsky=65 \n",
    "#nguide=45\n",
    "\n",
    "##### Read in master catalog ##################\n",
    "intable = ascii.read(mastercatfil, data_start=6, names=('id', 'rahr', 'ramin','rasec', 'decdeg', 'decmin', 'decsec', 'flag', 'prior', 'rmag', 'dummy1','pm_ra','pm_dec')) \n",
    "intable_nar = ascii.read(mastercatfil_nar, data_start=0, names=('id', 'rahr', 'ramin','rasec', 'decdeg', 'decmin', 'decsec', 'flag', 'prior', 'rmag', 'dummy1','pm_ra','pm_dec')) \n",
    "\n",
    "getobj = (intable['flag'] == 'P')\n",
    "getguide = (intable['flag'] == 'F')\n",
    "getsky = (intable['flag'] == 'S')\n",
    "getobj_nar = (intable_nar['flag'] == 'P')\n",
    "\n",
    "objtable = intable[getobj]\n",
    "guidetable = intable[getguide]\n",
    "skytable = intable[getsky]\n",
    "objtable_nar = intable_nar[getobj_nar]\n",
    "\n",
    "# Make sure that proper motion of guide stars is < 0.015 arcsec/yr\n",
    "pm_abs = np.sqrt(guidetable['pm_ra']**2  + guidetable['pm_dec']**2)\n",
    "\n",
    "guidetable = guidetable[pm_abs < 0.015]\n",
    "###### Finished reading master catalog #######\n",
    "\n",
    "##### Read list of objects that have already been allocated in other plates ###\n",
    "listfils = ascii.read(configlistfil, format='commented_header')\n",
    "confignum = np.size(listfils) # Assume confignum starts at zero\n",
    "platenum  = int(confignum % 2) # Use modulo 2 to set the plate number\n",
    "if np.size(listfils) > 0:\n",
    "    old_objid = []\n",
    "\n",
    "    for fil in listfils['filname']:\n",
    "        listtab = ascii.read(fil, data_start=9, format='fixed_width_no_header', \n",
    "                             names=('fibernum','objid'), col_starts=(2,6), col_ends=(4,17))\n",
    "        objid_tmp = listtab['objid']\n",
    "        old_objid.append(objid_tmp)\n",
    "        \n",
    "    old_objid = np.asarray(old_objid)\n",
    "        \n",
    "    # Use binary mask to remove objects that have already been allocated from master list\n",
    "    print('Removing {} objects that have already been configured'.format(np.sum(np.in1d(objtable['id'], old_objid))))\n",
    "    objtable = objtable[~np.in1d(objtable['id'], old_objid)]\n",
    "\n",
    "\n",
    "print('Removing {} narrow objects that have already included in narrow file'.format(np.sum(np.in1d(objtable['id'], objtable_nar['id']))))\n",
    "objtable = objtable[~np.in1d(objtable['id'], objtable_nar['id'])]\n",
    "\n",
    "\n",
    "#guidetable = np.random.choice(guidetable, size=nguide, replace=False)\n",
    "#skytable = np.random.choice(skytable, size=nsky, replace=False)\n",
    "\n",
    "\n",
    "outputfil = 'FRB180924_wide2.txt'\n",
    "f = open(outputfil, 'w+')\n",
    "\n",
    "f.write('#Master file of wide 2 field near FRB180924\\n'.format(confignum))\n",
    "f.write('LABEL FRB180924 2df\\n')\n",
    "f.write('UTDATE 2020 10 9\\n')\n",
    "f.write('CENTRE 21 44 25  -40 54 0\\n')\n",
    "f.write('EQUINOX J2000\\n')\n",
    "f.write('\\n')\n",
    "\n",
    "for tab in objtable:\n",
    "    outstr = '{0:12}   {1:02d} {2:02d} {3:06.3f}  {4:+02d} {5:02d} {6:06.3f}   {7:1}   {8:1d}   {9:6.3f}  {10:1d}  {11:+7.4f} {12:+7.4f}\\n'.format(tab['id'], tab['rahr'], tab['ramin'], tab['rasec'], tab['decdeg'], tab['decmin'], tab['decsec'], tab['flag'], 5, tab['rmag'], tab['dummy1'], tab['pm_ra'], tab['pm_dec'])\n",
    "    f.write(outstr)\n",
    "\n",
    "for tab in guidetable:\n",
    "    outstr = '{0:12}   {1:02d} {2:02d} {3:06.3f}  {4:+02d} {5:02d} {6:06.3f}   {7:1}   {8:1d}   {9:6.3f}  {10:1d}  {11:+7.4f} {12:+7.4f}\\n'.format(tab['id'], tab['rahr'], tab['ramin'], tab['rasec'], tab['decdeg'], tab['decmin'], tab['decsec'], tab['flag'], 9, tab['rmag'], tab['dummy1'], tab['pm_ra'], tab['pm_dec'])\n",
    "    f.write(outstr)\n",
    "\n",
    "for tab in skytable:\n",
    "    outstr = '{0:12}   {1:02d} {2:02d} {3:06.3f}  {4:+02d} {5:02d} {6:06.3f}   {7:1}   {8:1d}   {9:6.3f}  {10:1d}  {11:+7.4f} {12:+7.4f}\\n'.format(tab['id'], tab['rahr'], tab['ramin'], tab['rasec'], tab['decdeg'], tab['decmin'], tab['decsec'], tab['flag'], 9, tab['rmag'], tab['dummy1'], tab['pm_ra'], tab['pm_dec'])\n",
    "    f.write(outstr)\n",
    "\n",
    "f.close()\n"
   ]
  },
  {
   "cell_type": "code",
   "execution_count": null,
   "metadata": {},
   "outputs": [],
   "source": []
  },
  {
   "cell_type": "code",
   "execution_count": null,
   "metadata": {},
   "outputs": [],
   "source": [
    "#filter narrow field targets which l95>z_frb & remove narrow targets in wide1\n",
    "\n",
    "#z_191001 = 0.23\n",
    "#z_180924 = 0.32"
   ]
  },
  {
   "cell_type": "code",
   "execution_count": 596,
   "metadata": {},
   "outputs": [],
   "source": [
    "photzfil = './photz_F180924_narrow.zout'\n",
    "photz = ascii.read(photzfil, format='commented_header')"
   ]
  },
  {
   "cell_type": "code",
   "execution_count": 535,
   "metadata": {},
   "outputs": [
    {
     "data": {
      "text/html": [
       "<i>Table length=69</i>\n",
       "<table id=\"table140717249662672\" class=\"table-striped table-bordered table-condensed\">\n",
       "<thead><tr><th>id</th><th>z_spec</th><th>z_a</th><th>z_m1</th><th>chi_a</th><th>z_p</th><th>chi_p</th><th>z_m2</th><th>odds</th><th>l68</th><th>u68</th><th>l95</th><th>u95</th><th>l99</th><th>u99</th><th>nfilt</th><th>q_z</th><th>z_peak</th><th>peak_prob</th><th>z_mc</th></tr></thead>\n",
       "<thead><tr><th>int64</th><th>float64</th><th>float64</th><th>float64</th><th>float64</th><th>float64</th><th>float64</th><th>float64</th><th>float64</th><th>float64</th><th>float64</th><th>float64</th><th>float64</th><th>float64</th><th>float64</th><th>int64</th><th>float64</th><th>float64</th><th>float64</th><th>float64</th></tr></thead>\n",
       "<tr><td>209916192</td><td>-1.0</td><td>0.561</td><td>0.384</td><td>0.0245941</td><td>0.256</td><td>0.290855</td><td>0.329</td><td>0.949</td><td>0.169</td><td>0.569</td><td>0.095</td><td>0.673</td><td>0.028</td><td>0.767</td><td>4</td><td>3.17549</td><td>0.3287</td><td>0.999</td><td>0.2449</td></tr>\n",
       "<tr><td>209915840</td><td>-1.0</td><td>0.443</td><td>0.292</td><td>0.03080933</td><td>0.333</td><td>0.04257344</td><td>0.338</td><td>0.994</td><td>0.181</td><td>0.488</td><td>0.076</td><td>0.572</td><td>0.021</td><td>0.638</td><td>4</td><td>0.0264067</td><td>0.3376</td><td>0.999</td><td>0.1522</td></tr>\n",
       "<tr><td>209915936</td><td>-1.0</td><td>1.32</td><td>1.35</td><td>4.024939</td><td>0.333</td><td>21.87387</td><td>0.414</td><td>0.536</td><td>0.05</td><td>1.203</td><td>0.02</td><td>1.374</td><td>0.011</td><td>1.452</td><td>4</td><td>58.7635</td><td>0.3267</td><td>0.515</td><td>0.3517</td></tr>\n",
       "<tr><td>209916433</td><td>-1.0</td><td>1.32</td><td>1.306</td><td>3.498587</td><td>1.23</td><td>5.409713</td><td>1.242</td><td>1.0</td><td>1.132</td><td>1.354</td><td>1.064</td><td>1.427</td><td>0.987</td><td>1.459</td><td>4</td><td>2.5558</td><td>1.2396</td><td>0.988</td><td>1.2498</td></tr>\n",
       "<tr><td>209916701</td><td>-1.0</td><td>1.32</td><td>1.29</td><td>1.879127</td><td>1.144</td><td>4.469323</td><td>1.216</td><td>1.0</td><td>1.108</td><td>1.333</td><td>1.046</td><td>1.415</td><td>0.964</td><td>1.458</td><td>4</td><td>1.58668</td><td>1.2149</td><td>0.993</td><td>1.3507</td></tr>\n",
       "<tr><td>209916272</td><td>-1.0</td><td>0.333</td><td>0.594</td><td>2.177692</td><td>0.333</td><td>2.177692</td><td>0.335</td><td>0.98</td><td>0.28</td><td>0.404</td><td>0.059</td><td>0.537</td><td>0.016</td><td>1.229</td><td>4</td><td>2.69534</td><td>0.3318</td><td>0.996</td><td>0.3231</td></tr>\n",
       "<tr><td>209914516</td><td>-1.0</td><td>0.501</td><td>0.373</td><td>0.04614786</td><td>0.231</td><td>0.06152331</td><td>0.31</td><td>1.0</td><td>0.223</td><td>0.405</td><td>0.193</td><td>0.509</td><td>0.173</td><td>0.569</td><td>4</td><td>0.0878562</td><td>0.31</td><td>1.0</td><td>0.3306</td></tr>\n",
       "<tr><td>209916730</td><td>-1.0</td><td>1.462</td><td>0.897</td><td>2.751304</td><td>0.333</td><td>3.501276</td><td>0.348</td><td>0.902</td><td>0.211</td><td>0.411</td><td>0.046</td><td>1.152</td><td>0.013</td><td>1.433</td><td>4</td><td>7.73139</td><td>0.3471</td><td>0.999</td><td>0.1136</td></tr>\n",
       "<tr><td>209914026</td><td>-1.0</td><td>0.256</td><td>0.339</td><td>0.008570305</td><td>0.281</td><td>0.01151685</td><td>0.354</td><td>0.991</td><td>0.191</td><td>0.535</td><td>0.1</td><td>0.632</td><td>0.034</td><td>0.698</td><td>4</td><td>0.469584</td><td>0.3539</td><td>0.999</td><td>0.4603</td></tr>\n",
       "<tr><td>209913845</td><td>-1.0</td><td>0.387</td><td>0.394</td><td>0.1949273</td><td>0.387</td><td>0.1949273</td><td>0.389</td><td>1.0</td><td>0.316</td><td>0.464</td><td>0.276</td><td>0.534</td><td>0.245</td><td>0.597</td><td>4</td><td>0.0686172</td><td>0.3884</td><td>1.0</td><td>0.4115</td></tr>\n",
       "<tr><td>...</td><td>...</td><td>...</td><td>...</td><td>...</td><td>...</td><td>...</td><td>...</td><td>...</td><td>...</td><td>...</td><td>...</td><td>...</td><td>...</td><td>...</td><td>...</td><td>...</td><td>...</td><td>...</td><td>...</td></tr>\n",
       "<tr><td>209916331</td><td>-1.0</td><td>0.307</td><td>0.327</td><td>0.01839525</td><td>0.359</td><td>0.1275968</td><td>0.365</td><td>0.996</td><td>0.215</td><td>0.513</td><td>0.116</td><td>0.596</td><td>0.043</td><td>0.662</td><td>4</td><td>0.0791918</td><td>0.3644</td><td>1.0</td><td>0.3787</td></tr>\n",
       "<tr><td>209914488</td><td>-1.0</td><td>0.471</td><td>0.316</td><td>0.02747322</td><td>0.307</td><td>0.07161692</td><td>0.314</td><td>0.999</td><td>0.17</td><td>0.459</td><td>0.093</td><td>0.544</td><td>0.047</td><td>0.605</td><td>4</td><td>0.0399826</td><td>0.3137</td><td>0.999</td><td>0.2875</td></tr>\n",
       "<tr><td>209914347</td><td>-1.0</td><td>0.501</td><td>0.32</td><td>0.0229473</td><td>0.307</td><td>0.03817718</td><td>0.318</td><td>0.998</td><td>0.178</td><td>0.46</td><td>0.1</td><td>0.539</td><td>0.038</td><td>0.598</td><td>4</td><td>0.0214107</td><td>0.3174</td><td>1.0</td><td>0.2482</td></tr>\n",
       "<tr><td>209913115</td><td>-1.0</td><td>0.281</td><td>0.407</td><td>2.769372</td><td>0.281</td><td>2.769372</td><td>0.373</td><td>0.996</td><td>0.225</td><td>0.598</td><td>0.174</td><td>0.65</td><td>0.104</td><td>0.694</td><td>4</td><td>6.69038</td><td>0.3725</td><td>0.997</td><td>0.603</td></tr>\n",
       "<tr><td>209913934</td><td>-1.0</td><td>0.561</td><td>0.371</td><td>0.01328098</td><td>0.281</td><td>0.03967616</td><td>0.389</td><td>0.99</td><td>0.223</td><td>0.569</td><td>0.122</td><td>0.661</td><td>0.044</td><td>0.732</td><td>4</td><td>0.506323</td><td>0.389</td><td>0.999</td><td>0.5201</td></tr>\n",
       "<tr><td>209913889</td><td>-1.0</td><td>0.471</td><td>0.356</td><td>0.07547412</td><td>0.207</td><td>0.7020508</td><td>0.235</td><td>0.999</td><td>0.164</td><td>0.313</td><td>0.134</td><td>0.405</td><td>0.126</td><td>0.5</td><td>4</td><td>0.228084</td><td>0.2352</td><td>0.999</td><td>0.2268</td></tr>\n",
       "<tr><td>209913481</td><td>-1.0</td><td>0.903</td><td>0.724</td><td>0.1736495</td><td>0.657</td><td>0.7564503</td><td>0.646</td><td>0.83</td><td>0.364</td><td>0.864</td><td>0.099</td><td>0.997</td><td>0.055</td><td>1.113</td><td>4</td><td>0.964441</td><td>0.6459</td><td>0.999</td><td>0.7056</td></tr>\n",
       "<tr><td>209912789</td><td>-1.0</td><td>0.794</td><td>0.747</td><td>0.1247827</td><td>0.657</td><td>0.5869029</td><td>0.721</td><td>1.0</td><td>0.622</td><td>0.828</td><td>0.578</td><td>0.899</td><td>0.548</td><td>0.95</td><td>4</td><td>0.244331</td><td>0.7201</td><td>0.996</td><td>0.7365</td></tr>\n",
       "<tr><td>209913048</td><td>-1.0</td><td>0.207</td><td>0.346</td><td>0.008407416</td><td>0.531</td><td>0.01677707</td><td>0.403</td><td>0.961</td><td>0.217</td><td>0.59</td><td>0.102</td><td>0.695</td><td>0.03</td><td>0.773</td><td>4</td><td>0.596768</td><td>0.4025</td><td>0.999</td><td>0.5018</td></tr>\n",
       "<tr><td>209915621</td><td>-1.0</td><td>0.256</td><td>0.353</td><td>0.01862052</td><td>0.561</td><td>0.03553875</td><td>0.419</td><td>0.976</td><td>0.21</td><td>0.615</td><td>0.107</td><td>0.696</td><td>0.037</td><td>0.765</td><td>4</td><td>2.01961</td><td>0.4183</td><td>0.999</td><td>0.6304</td></tr>\n",
       "</table>"
      ],
      "text/plain": [
       "<Table length=69>\n",
       "    id     z_spec   z_a     z_m1  ...    q_z     z_peak peak_prob   z_mc \n",
       "  int64   float64 float64 float64 ...  float64  float64  float64  float64\n",
       "--------- ------- ------- ------- ... --------- ------- --------- -------\n",
       "209916192    -1.0   0.561   0.384 ...   3.17549  0.3287     0.999  0.2449\n",
       "209915840    -1.0   0.443   0.292 ... 0.0264067  0.3376     0.999  0.1522\n",
       "209915936    -1.0    1.32    1.35 ...   58.7635  0.3267     0.515  0.3517\n",
       "209916433    -1.0    1.32   1.306 ...    2.5558  1.2396     0.988  1.2498\n",
       "209916701    -1.0    1.32    1.29 ...   1.58668  1.2149     0.993  1.3507\n",
       "209916272    -1.0   0.333   0.594 ...   2.69534  0.3318     0.996  0.3231\n",
       "209914516    -1.0   0.501   0.373 ... 0.0878562    0.31       1.0  0.3306\n",
       "209916730    -1.0   1.462   0.897 ...   7.73139  0.3471     0.999  0.1136\n",
       "209914026    -1.0   0.256   0.339 ...  0.469584  0.3539     0.999  0.4603\n",
       "209913845    -1.0   0.387   0.394 ... 0.0686172  0.3884       1.0  0.4115\n",
       "      ...     ...     ...     ... ...       ...     ...       ...     ...\n",
       "209916331    -1.0   0.307   0.327 ... 0.0791918  0.3644       1.0  0.3787\n",
       "209914488    -1.0   0.471   0.316 ... 0.0399826  0.3137     0.999  0.2875\n",
       "209914347    -1.0   0.501    0.32 ... 0.0214107  0.3174       1.0  0.2482\n",
       "209913115    -1.0   0.281   0.407 ...   6.69038  0.3725     0.997   0.603\n",
       "209913934    -1.0   0.561   0.371 ...  0.506323   0.389     0.999  0.5201\n",
       "209913889    -1.0   0.471   0.356 ...  0.228084  0.2352     0.999  0.2268\n",
       "209913481    -1.0   0.903   0.724 ...  0.964441  0.6459     0.999  0.7056\n",
       "209912789    -1.0   0.794   0.747 ...  0.244331  0.7201     0.996  0.7365\n",
       "209913048    -1.0   0.207   0.346 ...  0.596768  0.4025     0.999  0.5018\n",
       "209915621    -1.0   0.256   0.353 ...   2.01961  0.4183     0.999  0.6304"
      ]
     },
     "execution_count": 535,
     "metadata": {},
     "output_type": "execute_result"
    }
   ],
   "source": [
    "photz"
   ]
  },
  {
   "cell_type": "code",
   "execution_count": 597,
   "metadata": {},
   "outputs": [],
   "source": [
    "mastercatfil_nar = './FRB180924_22.0_narrow.txt'\n",
    "\n",
    "intable_nar = ascii.read(mastercatfil_nar, data_start=0, names=('id', 'rahr', 'ramin','rasec', 'decdeg', 'decmin', 'decsec', 'flag', 'prior', 'rmag', 'dummy1','pm_ra','pm_dec'))\n"
   ]
  },
  {
   "cell_type": "code",
   "execution_count": 598,
   "metadata": {},
   "outputs": [
    {
     "data": {
      "text/plain": [
       "55"
      ]
     },
     "execution_count": 598,
     "metadata": {},
     "output_type": "execute_result"
    }
   ],
   "source": [
    "len(intable_nar)"
   ]
  },
  {
   "cell_type": "code",
   "execution_count": 599,
   "metadata": {},
   "outputs": [],
   "source": [
    "photz = photz[np.in1d(photz['id'], intable_nar['id'])]"
   ]
  },
  {
   "cell_type": "code",
   "execution_count": 600,
   "metadata": {},
   "outputs": [
    {
     "data": {
      "text/plain": [
       "55"
      ]
     },
     "execution_count": 600,
     "metadata": {},
     "output_type": "execute_result"
    }
   ],
   "source": [
    "len(photz)"
   ]
  },
  {
   "cell_type": "code",
   "execution_count": 601,
   "metadata": {},
   "outputs": [],
   "source": [
    "zfrb = 0.32"
   ]
  },
  {
   "cell_type": "code",
   "execution_count": 602,
   "metadata": {},
   "outputs": [
    {
     "name": "stdout",
     "output_type": "stream",
     "text": [
      "46\n",
      "4\n"
     ]
    }
   ],
   "source": [
    "photz_8 = photz[np.where((photz['l68']<zfrb))]\n",
    "photz_7 = photz[np.where((photz['l95']<zfrb) * (photz['l68']>zfrb))]\n",
    "print(len(photz_8))\n",
    "print(len(photz_7))"
   ]
  },
  {
   "cell_type": "code",
   "execution_count": 603,
   "metadata": {},
   "outputs": [
    {
     "name": "stdout",
     "output_type": "stream",
     "text": [
      "46\n",
      "4\n",
      "31\n",
      "1\n"
     ]
    }
   ],
   "source": [
    "intable_nar_8 = intable_nar[in_objid_8]\n",
    "intable_nar_7 = intable_nar[in_objid_7]\n",
    "print(len(intable_nar_8))\n",
    "print(len(intable_nar_7))\n",
    "\n",
    "intable_nar_8 = intable_nar_8[(intable_nar_8['rmag']<21.5)]\n",
    "intable_nar_7 = intable_nar_7[(intable_nar_7['rmag']<21.5)]\n",
    "print(len(intable_nar_8))\n",
    "print(len(intable_nar_7))"
   ]
  },
  {
   "cell_type": "code",
   "execution_count": 604,
   "metadata": {},
   "outputs": [],
   "source": [
    "#mastercatfil = './FRB191001.txt'\n",
    "mastercatfil_nar = './FRB180924_22.0_narrow.txt'\n",
    "configlistfil = './outlist_FRB180924.txt'\n",
    "intable_nar = ascii.read(mastercatfil_nar, data_start=0, names=('id', 'rahr', 'ramin','rasec', 'decdeg', 'decmin', 'decsec', 'flag', 'prior', 'rmag', 'dummy1','pm_ra','pm_dec')) \n",
    "getobj_nar = (intable_nar['flag'] == 'P')\n",
    "objtable_nar = intable_nar[getobj_nar]\n",
    "listfils = ascii.read(configlistfil, format='commented_header')\n",
    "if np.size(listfils) > 0:\n",
    "    old_objid_nar = []\n",
    "\n",
    "    for fil in listfils['filname']:\n",
    "        listtab_nar = ascii.read(fil, data_start=9, format='fixed_width_no_header', \n",
    "                             names=('fibernum','objid'), col_starts=(2,6), col_ends=(4,17))\n",
    "        objid_tmp_nar = listtab_nar['objid']\n",
    "        old_objid_nar.append(objid_tmp_nar)\n",
    "        \n",
    "    old_objid_nar = np.asarray(old_objid_nar)"
   ]
  },
  {
   "cell_type": "code",
   "execution_count": 605,
   "metadata": {},
   "outputs": [
    {
     "name": "stdout",
     "output_type": "stream",
     "text": [
      "24\n",
      "1\n"
     ]
    }
   ],
   "source": [
    "#remove wide1 targets\n",
    "intable_nar_8 = intable_nar_8[~np.in1d(intable_nar_8['id'], old_objid_nar)]\n",
    "intable_nar_7 = intable_nar_7[~np.in1d(intable_nar_7['id'], old_objid_nar)]\n",
    "print(len(intable_nar_8))\n",
    "print(len(intable_nar_7))"
   ]
  },
  {
   "cell_type": "code",
   "execution_count": 563,
   "metadata": {},
   "outputs": [
    {
     "data": {
      "text/plain": [
       "1"
      ]
     },
     "execution_count": 563,
     "metadata": {},
     "output_type": "execute_result"
    }
   ],
   "source": [
    "intable['dummy1'][0]"
   ]
  },
  {
   "cell_type": "code",
   "execution_count": 606,
   "metadata": {},
   "outputs": [
    {
     "name": "stdout",
     "output_type": "stream",
     "text": [
      "program No.1\n",
      "9\n",
      "15\n",
      "1\n"
     ]
    }
   ],
   "source": [
    "#select p9 targets\n",
    "\n",
    "prgid =intable['dummy1'][0]\n",
    "print('program No.'+str(prgid))\n",
    "gp = [] \n",
    "\n",
    "for i in range(len(intable_nar_8)):\n",
    "    ra = str(intable_nar_8['rahr'][i])+'h'+str(intable_nar_8['ramin'][i])+'m'+str(intable_nar_8['rasec'][i])+'s'\n",
    "    dec = str(intable_nar_8['decdeg'][i])+'d'+str(intable_nar_8['decmin'][i])+'m'+str(intable_nar_8['decsec'][i])+'s'\n",
    "    gp.insert(0,ra+' '+dec)\n",
    "#gp.reverse\n",
    "g = SkyCoord(gp, frame='icrs')\n",
    "\n",
    "cen = [\"21h33m24s -54d44m54s\",\"21h44m25s -40d54m0s\",\"21h49m23s -52d58m15s\",\"21h49m23s -52d58m15s\"]\n",
    "cp = [cen[prgid]]*len(intable_nar_8)\n",
    "f = SkyCoord(cp, frame='icrs')\n",
    "\n",
    "infield = list(g.separation(f).degree)\n",
    "infield.reverse()\n",
    "\n",
    "intable_nar_9 = intable_nar_8[np.where(np.array(infield)<0.025)]\n",
    "intable_nar_8 = intable_nar_8[~np.in1d(intable_nar_8['id'],intable_nar_9['id'])]\n",
    "\n",
    "print(len(intable_nar_9))\n",
    "print(len(intable_nar_8))\n",
    "print(len(intable_nar_7))"
   ]
  },
  {
   "cell_type": "code",
   "execution_count": 607,
   "metadata": {},
   "outputs": [],
   "source": [
    "#write narrow master file\n",
    "\n",
    "outputfil = 'FRB180924_21.5_narrow_photz_filtered.txt'\n",
    "f = open(outputfil, 'w+')\n",
    "\n",
    "\n",
    "f.write('#Master file of narrow field near FRB180924\\n')\n",
    "\n",
    "for tab in intable_nar_9:\n",
    "    outstr = '{0:12}   {1:02d} {2:02d} {3:06.3f}  {4:+02d} {5:02d} {6:06.3f}   {7:1}   {8:1d}   {9:6.3f}  {10:1d}  {11:+7.4f} {12:+7.4f} {13:1d}\\n'.format(tab['id'], tab['rahr'], tab['ramin'], tab['rasec'], tab['decdeg'], tab['decmin'], tab['decsec'], tab['flag'], 9, tab['rmag'], tab['dummy1'], tab['pm_ra'], tab['pm_dec'], 0)\n",
    "    f.write(outstr)\n",
    "    \n",
    "for tab in intable_nar_8:\n",
    "    outstr = '{0:12}   {1:02d} {2:02d} {3:06.3f}  {4:+02d} {5:02d} {6:06.3f}   {7:1}   {8:1d}   {9:6.3f}  {10:1d}  {11:+7.4f} {12:+7.4f} {13:1d}\\n'.format(tab['id'], tab['rahr'], tab['ramin'], tab['rasec'], tab['decdeg'], tab['decmin'], tab['decsec'], tab['flag'], 8, tab['rmag'], tab['dummy1'], tab['pm_ra'], tab['pm_dec'], 0)\n",
    "    f.write(outstr)\n",
    "    \n",
    "for tab in intable_nar_7:\n",
    "    outstr = '{0:12}   {1:02d} {2:02d} {3:06.3f}  {4:+02d} {5:02d} {6:06.3f}   {7:1}   {8:1d}   {9:6.3f}  {10:1d}  {11:+7.4f} {12:+7.4f} {13:1d}\\n'.format(tab['id'], tab['rahr'], tab['ramin'], tab['rasec'], tab['decdeg'], tab['decmin'], tab['decsec'], tab['flag'], 7, tab['rmag'], tab['dummy1'], tab['pm_ra'], tab['pm_dec'], 0)\n",
    "    f.write(outstr)\n",
    "\n",
    "f.close()"
   ]
  },
  {
   "cell_type": "code",
   "execution_count": null,
   "metadata": {},
   "outputs": [],
   "source": []
  },
  {
   "cell_type": "code",
   "execution_count": 118,
   "metadata": {},
   "outputs": [
    {
     "data": {
      "text/html": [
       "<i>Table length=12</i>\n",
       "<table id=\"table140717249329424\" class=\"table-striped table-bordered table-condensed\">\n",
       "<thead><tr><th>id</th><th>rahr</th><th>ramin</th><th>rasec</th><th>decdeg</th><th>decmin</th><th>decsec</th><th>flag</th><th>prior</th><th>rmag</th><th>dummy1</th><th>pm_ra</th><th>pm_dec</th></tr></thead>\n",
       "<thead><tr><th>int64</th><th>int64</th><th>int64</th><th>float64</th><th>int64</th><th>int64</th><th>float64</th><th>str1</th><th>int64</th><th>float64</th><th>int64</th><th>float64</th><th>float64</th></tr></thead>\n",
       "<tr><td>206897915</td><td>21</td><td>33</td><td>8.82</td><td>-54</td><td>44</td><td>55.687</td><td>P</td><td>9</td><td>21.211</td><td>0</td><td>0.0</td><td>0.0</td></tr>\n",
       "<tr><td>206897953</td><td>21</td><td>33</td><td>11.421</td><td>-54</td><td>44</td><td>58.42</td><td>P</td><td>9</td><td>21.823</td><td>0</td><td>0.0</td><td>0.0</td></tr>\n",
       "<tr><td>206896982</td><td>21</td><td>33</td><td>14.544</td><td>-54</td><td>44</td><td>6.274</td><td>P</td><td>9</td><td>21.878</td><td>0</td><td>0.0</td><td>0.0</td></tr>\n",
       "<tr><td>206896366</td><td>21</td><td>33</td><td>20.599</td><td>-54</td><td>43</td><td>35.76</td><td>P</td><td>9</td><td>21.08</td><td>0</td><td>0.0</td><td>0.0</td></tr>\n",
       "<tr><td>206895580</td><td>21</td><td>33</td><td>31.145</td><td>-54</td><td>42</td><td>51.736</td><td>P</td><td>9</td><td>21.829</td><td>0</td><td>0.0</td><td>0.0</td></tr>\n",
       "<tr><td>206895776</td><td>21</td><td>33</td><td>18.714</td><td>-54</td><td>43</td><td>4.102</td><td>P</td><td>9</td><td>20.601</td><td>0</td><td>0.0</td><td>0.0</td></tr>\n",
       "<tr><td>206895995</td><td>21</td><td>33</td><td>13.614</td><td>-54</td><td>43</td><td>15.103</td><td>P</td><td>9</td><td>20.842</td><td>0</td><td>0.0</td><td>0.0</td></tr>\n",
       "<tr><td>206898016</td><td>21</td><td>33</td><td>8.795</td><td>-54</td><td>44</td><td>59.327</td><td>P</td><td>9</td><td>21.869</td><td>0</td><td>0.0</td><td>0.0</td></tr>\n",
       "<tr><td>206898040</td><td>21</td><td>33</td><td>28.968</td><td>-54</td><td>45</td><td>4.651</td><td>P</td><td>9</td><td>21.147</td><td>0</td><td>0.0</td><td>0.0</td></tr>\n",
       "<tr><td>206896397</td><td>21</td><td>33</td><td>35.777</td><td>-54</td><td>43</td><td>38.262</td><td>P</td><td>9</td><td>21.655</td><td>0</td><td>0.0</td><td>0.0</td></tr>\n",
       "<tr><td>206896431</td><td>21</td><td>33</td><td>33.708</td><td>-54</td><td>43</td><td>36.458</td><td>P</td><td>9</td><td>21.282</td><td>0</td><td>0.0</td><td>0.0</td></tr>\n",
       "<tr><td>206897880</td><td>21</td><td>33</td><td>37.416</td><td>-54</td><td>44</td><td>54.319</td><td>P</td><td>9</td><td>20.958</td><td>0</td><td>0.0</td><td>0.0</td></tr>\n",
       "</table>"
      ],
      "text/plain": [
       "<Table length=12>\n",
       "    id     rahr ramin  rasec  decdeg ... prior   rmag  dummy1  pm_ra   pm_dec\n",
       "  int64   int64 int64 float64 int64  ... int64 float64 int64  float64 float64\n",
       "--------- ----- ----- ------- ------ ... ----- ------- ------ ------- -------\n",
       "206897915    21    33    8.82    -54 ...     9  21.211      0     0.0     0.0\n",
       "206897953    21    33  11.421    -54 ...     9  21.823      0     0.0     0.0\n",
       "206896982    21    33  14.544    -54 ...     9  21.878      0     0.0     0.0\n",
       "206896366    21    33  20.599    -54 ...     9   21.08      0     0.0     0.0\n",
       "206895580    21    33  31.145    -54 ...     9  21.829      0     0.0     0.0\n",
       "206895776    21    33  18.714    -54 ...     9  20.601      0     0.0     0.0\n",
       "206895995    21    33  13.614    -54 ...     9  20.842      0     0.0     0.0\n",
       "206898016    21    33   8.795    -54 ...     9  21.869      0     0.0     0.0\n",
       "206898040    21    33  28.968    -54 ...     9  21.147      0     0.0     0.0\n",
       "206896397    21    33  35.777    -54 ...     9  21.655      0     0.0     0.0\n",
       "206896431    21    33  33.708    -54 ...     9  21.282      0     0.0     0.0\n",
       "206897880    21    33  37.416    -54 ...     9  20.958      0     0.0     0.0"
      ]
     },
     "execution_count": 118,
     "metadata": {},
     "output_type": "execute_result"
    }
   ],
   "source": [
    "intable_nar_8"
   ]
  },
  {
   "cell_type": "code",
   "execution_count": null,
   "metadata": {},
   "outputs": [],
   "source": []
  },
  {
   "cell_type": "markdown",
   "metadata": {},
   "source": [
    "# FLD file generator for FRB191001"
   ]
  },
  {
   "cell_type": "code",
   "execution_count": 527,
   "metadata": {},
   "outputs": [
    {
     "name": "stdout",
     "output_type": "stream",
     "text": [
      "program No.0\n",
      "Removing 788 wide2 objects that have already been configured\n",
      "Removing 35 narrow objects that have already been configured\n",
      "Counting 36 narrow objects that have been configured\n"
     ]
    }
   ],
   "source": [
    "randseed = 4023268\n",
    "\n",
    "# Configuration number, and plate number for the new FLD file\n",
    "#confignum = 0\n",
    "#platenum = 0\n",
    "\n",
    "# Master file for FLD input\n",
    "mastercatfil = './FRB191001_wide2.txt'\n",
    "mastercatfil_nar = './FRB191001_21.5_narrow_photz_filtered.txt'\n",
    "\n",
    "# This file lists already configured files (File -> List -> Allocated in 'configure')\n",
    "configlistfil = './outlist_FRB191001_wide2.txt'\n",
    "\n",
    "outputsuffix = './FRB191001_2020B_'\n",
    "\n",
    "np.random.seed(seed=randseed)\n",
    "\n",
    "\n",
    "# These are the number of objects to go into the FLD file. For the sky and guide, we want a bit more objects than we will target.\n",
    "nobj=800\n",
    "#nsky=65 \n",
    "#nguide=45\n",
    "\n",
    "##### Read in master catalog ##################\n",
    "intable = ascii.read(mastercatfil, data_start=6, names=('id', 'rahr', 'ramin','rasec', 'decdeg', 'decmin', 'decsec', 'flag', 'prior', 'rmag', 'dummy1','pm_ra','pm_dec')) \n",
    "intable_nar = ascii.read(mastercatfil_nar, data_start=0, names=('id', 'rahr', 'ramin','rasec', 'decdeg', 'decmin', 'decsec', 'flag', 'prior', 'rmag', 'dummy1','pm_ra','pm_dec','count')) \n",
    "\n",
    "##############\n",
    "prgid =intable['dummy1'][0]\n",
    "print('program No.'+str(prgid))\n",
    "gp = [] \n",
    "for i in range(len(intable)):\n",
    "    ra = str(intable['rahr'][i])+'h'+str(intable['ramin'][i])+'m'+str(intable['rasec'][i])+'s'\n",
    "    dec = str(intable['decdeg'][i])+'d'+str(intable['decmin'][i])+'m'+str(intable['decsec'][i])+'s'\n",
    "    gp.insert(0,ra+' '+dec)\n",
    "#gp.reverse\n",
    "g = SkyCoord(gp, frame='icrs')\n",
    "\n",
    "cen = [\"21h33m24s -54d44m54s\",\"21h44m25s -40d54m0s\",\"21h49m23s -52d58m15s\",\"21h49m23s -52d58m15s\"]\n",
    "cp = [cen[prgid]]*len(intable)\n",
    "f = SkyCoord(cp, frame='icrs')\n",
    "\n",
    "infield = list(g.separation(f).degree)\n",
    "infield.reverse()\n",
    "intable = intable[np.where(np.array(infield)<1.1)]\n",
    "\n",
    "###############\n",
    "\n",
    "getobj = (intable['flag'] == 'P')\n",
    "getguide = (intable['flag'] == 'F')\n",
    "getsky = (intable['flag'] == 'S')\n",
    "\n",
    "objtable = intable[getobj]\n",
    "guidetable = intable[getguide]\n",
    "skytable = intable[getsky]\n",
    "\n",
    "# Make sure that proper motion of guide stars is < 0.015 arcsec/yr\n",
    "pm_abs = np.sqrt(guidetable['pm_ra']**2  + guidetable['pm_dec']**2)\n",
    "\n",
    "guidetable = guidetable[pm_abs < 0.015]\n",
    "###### Finished reading master catalog #######\n",
    "\n",
    "##### Read list of objects that have already been allocated in other plates ###\n",
    "listfils = ascii.read(configlistfil, format='commented_header')\n",
    "confignum = np.size(listfils) # Assume confignum starts at zero\n",
    "platenum  = int(confignum % 2) # Use modulo 2 to set the plate number\n",
    "if np.size(listfils) > 0:\n",
    "    old_objid = []\n",
    "\n",
    "    for fil in listfils['filname']:\n",
    "        listtab = ascii.read(fil, data_start=9, format='fixed_width_no_header', \n",
    "                             names=('fibernum','objid'), col_starts=(2,6), col_ends=(4,17))\n",
    "        objid_tmp = listtab['objid']\n",
    "        old_objid.append(objid_tmp)\n",
    "        \n",
    "    old_objid = np.asarray(old_objid)\n",
    "        \n",
    "    # Use binary mask to remove objects that have already been allocated from master list\n",
    "    print('Removing {} wide2 objects that have already been configured'.format(np.sum(np.in1d(objtable['id'], old_objid))))\n",
    "    objtable = objtable[~np.in1d(objtable['id'], old_objid)]\n",
    "\n",
    "if np.size(listfils) == 0:\n",
    "    objtable_nar = intable_nar\n",
    "    \n",
    "if np.size(listfils) > 0:\n",
    "    old_objid = []\n",
    "\n",
    "    for fil in listfils['filname']:\n",
    "        listtab = ascii.read(fil, data_start=9, format='fixed_width_no_header', \n",
    "                             names=('fibernum','objid','prior'), col_starts=(2,6,48), col_ends=(4,17,49))\n",
    "        #####\n",
    "        deltab = []\n",
    "        for i in range(len(listtab)):\n",
    "            if len(listtab['objid'][i])!=9:\n",
    "                deltab.append(i)\n",
    "        del listtab[deltab]\n",
    "        #####\n",
    "        objid_tmp = listtab[np.in1d(listtab['prior'],[7,8,9])]['objid']\n",
    "        old_objid = list(old_objid)+list(objid_tmp)\n",
    "        \n",
    "    old_objid = np.asarray(old_objid,dtype=int)\n",
    "    for iid in old_objid:\n",
    "        iin = np.where(intable_nar['id']==iid)\n",
    "        intable_nar[iin[0][0]]['count'] += 1\n",
    "        \n",
    "    getobj_nar = (intable_nar['count']!=2)\n",
    "    getconf_nar = (intable_nar['count']!=0)\n",
    "    objtable_nar = intable_nar[getobj_nar]\n",
    "    print('Removing {} narrow objects that have already been configured'.format(np.sum(~getobj_nar)))\n",
    "    print('Counting {} narrow objects that have been configured'.format(np.sum(getconf_nar)))\n",
    "\n",
    "if np.size(objtable) > nobj:\n",
    "    objtable = np.random.choice(objtable, size=nobj, replace=False)   \n",
    "    \n",
    "\n",
    "\n",
    "#guidetable = np.random.choice(guidetable, size=nguide, replace=False)\n",
    "#skytable = np.random.choice(skytable, size=nsky, replace=False)\n",
    "\n",
    "\n",
    "outputfil = outputsuffix+'conf{:02d}_p{:1d}.fld'.format(confignum, platenum) \n",
    "f = open(outputfil, 'w+')\n",
    "\n",
    "f.write('#FLD file number {} of field near FRB191001\\n'.format(confignum))\n",
    "f.write('LABEL FRB191001 2df\\n')\n",
    "f.write('UTDATE 2020 10 9\\n')\n",
    "f.write('CENTRE 21 33 24 -54 44 54\\n')\n",
    "f.write('EQUINOX J2000\\n')\n",
    "f.write('\\n')\n",
    "\n",
    "for tab in objtable:\n",
    "    outstr = '{0:12}   {1:02d} {2:02d} {3:06.3f}  {4:+02d} {5:02d} {6:06.3f}   {7:1}   {8:1d}   {9:6.3f}  {10:1d}  {11:+7.4f} {12:+7.4f}\\n'.format(tab['id'], tab['rahr'], tab['ramin'], tab['rasec'], tab['decdeg'], tab['decmin'], tab['decsec'], tab['flag'], 4, tab['rmag'], tab['dummy1'], tab['pm_ra'], tab['pm_dec'])\n",
    "    f.write(outstr)\n",
    "\n",
    "for tab in guidetable:\n",
    "    outstr = '{0:12}   {1:02d} {2:02d} {3:06.3f}  {4:+02d} {5:02d} {6:06.3f}   {7:1}   {8:1d}   {9:6.3f}  {10:1d}  {11:+7.4f} {12:+7.4f}\\n'.format(tab['id'], tab['rahr'], tab['ramin'], tab['rasec'], tab['decdeg'], tab['decmin'], tab['decsec'], tab['flag'], 9, tab['rmag'], tab['dummy1'], tab['pm_ra'], tab['pm_dec'])\n",
    "    f.write(outstr)\n",
    "\n",
    "for tab in skytable:\n",
    "    outstr = '{0:12}   {1:02d} {2:02d} {3:06.3f}  {4:+02d} {5:02d} {6:06.3f}   {7:1}   {8:1d}   {9:6.3f}  {10:1d}  {11:+7.4f} {12:+7.4f}\\n'.format(tab['id'], tab['rahr'], tab['ramin'], tab['rasec'], tab['decdeg'], tab['decmin'], tab['decsec'], tab['flag'], 9, tab['rmag'], tab['dummy1'], tab['pm_ra'], tab['pm_dec'])\n",
    "    f.write(outstr)\n",
    "    \n",
    "for tab in objtable_nar:\n",
    "    outstr = '{0:12}   {1:02d} {2:02d} {3:06.3f}  {4:+02d} {5:02d} {6:06.3f}   {7:1}   {8:1d}   {9:6.3f}  {10:1d}  {11:+7.4f} {12:+7.4f}\\n'.format(tab['id'], tab['rahr'], tab['ramin'], tab['rasec'], tab['decdeg'], tab['decmin'], tab['decsec'], tab['flag'], tab['prior'], tab['rmag'], tab['dummy1'], tab['pm_ra'], tab['pm_dec'])\n",
    "    f.write(outstr)\n",
    "\n",
    "f.close()\n"
   ]
  },
  {
   "cell_type": "code",
   "execution_count": null,
   "metadata": {},
   "outputs": [],
   "source": []
  },
  {
   "cell_type": "code",
   "execution_count": 334,
   "metadata": {},
   "outputs": [
    {
     "data": {
      "text/plain": [
       "(9,)"
      ]
     },
     "execution_count": 334,
     "metadata": {},
     "output_type": "execute_result"
    }
   ],
   "source": [
    "np.where((intable_nar['rmag']<20.3) * (intable_nar['prior']==9))[0].shape"
   ]
  },
  {
   "cell_type": "code",
   "execution_count": null,
   "metadata": {},
   "outputs": [],
   "source": []
  },
  {
   "cell_type": "code",
   "execution_count": 410,
   "metadata": {},
   "outputs": [
    {
     "name": "stdout",
     "output_type": "stream",
     "text": [
      "program No.0\n"
     ]
    },
    {
     "data": {
      "text/html": [
       "<i>Table length=18</i>\n",
       "<table id=\"table140717251375248\" class=\"table-striped table-bordered table-condensed\">\n",
       "<thead><tr><th>id</th><th>rahr</th><th>ramin</th><th>rasec</th><th>decdeg</th><th>decmin</th><th>decsec</th><th>flag</th><th>prior</th><th>rmag</th><th>dummy1</th><th>pm_ra</th><th>pm_dec</th></tr></thead>\n",
       "<thead><tr><th>int64</th><th>int64</th><th>int64</th><th>float64</th><th>int64</th><th>int64</th><th>float64</th><th>str1</th><th>int64</th><th>float64</th><th>int64</th><th>float64</th><th>float64</th></tr></thead>\n",
       "<tr><td>206896737</td><td>21</td><td>33</td><td>23.946</td><td>-54</td><td>43</td><td>54.181</td><td>P</td><td>9</td><td>20.147</td><td>0</td><td>0.0</td><td>0.0</td></tr>\n",
       "<tr><td>206896724</td><td>21</td><td>33</td><td>28.173</td><td>-54</td><td>43</td><td>53.717</td><td>P</td><td>9</td><td>20.507</td><td>0</td><td>0.0</td><td>0.0</td></tr>\n",
       "<tr><td>206898212</td><td>21</td><td>33</td><td>19.468</td><td>-54</td><td>45</td><td>13.518</td><td>P</td><td>9</td><td>20.615</td><td>0</td><td>0.0</td><td>0.0</td></tr>\n",
       "<tr><td>206897052</td><td>21</td><td>33</td><td>20.455</td><td>-54</td><td>44</td><td>14.971</td><td>P</td><td>9</td><td>19.512</td><td>0</td><td>0.0</td><td>0.0</td></tr>\n",
       "<tr><td>206897229</td><td>21</td><td>33</td><td>26.003</td><td>-54</td><td>44</td><td>19.907</td><td>P</td><td>9</td><td>20.603</td><td>0</td><td>0.0</td><td>0.0</td></tr>\n",
       "<tr><td>206896407</td><td>21</td><td>33</td><td>26.225</td><td>-54</td><td>43</td><td>36.764</td><td>P</td><td>9</td><td>20.782</td><td>0</td><td>0.0</td><td>0.0</td></tr>\n",
       "<tr><td>206898652</td><td>21</td><td>33</td><td>18.958</td><td>-54</td><td>45</td><td>36.99</td><td>P</td><td>9</td><td>21.162</td><td>0</td><td>0.0</td><td>0.0</td></tr>\n",
       "<tr><td>206897901</td><td>21</td><td>33</td><td>13.727</td><td>-54</td><td>44</td><td>57.757</td><td>P</td><td>9</td><td>20.786</td><td>0</td><td>0.0</td><td>0.0</td></tr>\n",
       "<tr><td>206898006</td><td>21</td><td>33</td><td>26.271</td><td>-54</td><td>45</td><td>15.044</td><td>P</td><td>9</td><td>19.48</td><td>0</td><td>0.0</td><td>0.0</td></tr>\n",
       "<tr><td>206897649</td><td>21</td><td>33</td><td>24.444</td><td>-54</td><td>44</td><td>54.654</td><td>P</td><td>9</td><td>18.503</td><td>0</td><td>0.0</td><td>0.0</td></tr>\n",
       "<tr><td>206899091</td><td>21</td><td>33</td><td>28.536</td><td>-54</td><td>46</td><td>10.049</td><td>P</td><td>9</td><td>20.925</td><td>0</td><td>0.0</td><td>0.0</td></tr>\n",
       "<tr><td>206898132</td><td>21</td><td>33</td><td>33.601</td><td>-54</td><td>45</td><td>5.137</td><td>P</td><td>9</td><td>21.411</td><td>0</td><td>0.0</td><td>0.0</td></tr>\n",
       "<tr><td>206898126</td><td>21</td><td>33</td><td>33.519</td><td>-54</td><td>45</td><td>7.229</td><td>P</td><td>9</td><td>21.029</td><td>0</td><td>0.0</td><td>0.0</td></tr>\n",
       "<tr><td>206897316</td><td>21</td><td>33</td><td>29.386</td><td>-54</td><td>44</td><td>22.902</td><td>P</td><td>9</td><td>21.253</td><td>0</td><td>0.0</td><td>0.0</td></tr>\n",
       "<tr><td>206898444</td><td>21</td><td>33</td><td>21.977</td><td>-54</td><td>45</td><td>28.84</td><td>P</td><td>9</td><td>20.705</td><td>0</td><td>0.0</td><td>0.0</td></tr>\n",
       "<tr><td>206898398</td><td>21</td><td>33</td><td>22.175</td><td>-54</td><td>45</td><td>22.727</td><td>P</td><td>9</td><td>20.865</td><td>0</td><td>0.0</td><td>0.0</td></tr>\n",
       "<tr><td>206897709</td><td>21</td><td>33</td><td>30.62</td><td>-54</td><td>44</td><td>45.539</td><td>P</td><td>9</td><td>21.202</td><td>0</td><td>0.0</td><td>0.0</td></tr>\n",
       "<tr><td>206896886</td><td>21</td><td>33</td><td>32.584</td><td>-54</td><td>44</td><td>5.899</td><td>P</td><td>9</td><td>19.726</td><td>0</td><td>0.0</td><td>0.0</td></tr>\n",
       "</table>"
      ],
      "text/plain": [
       "<Table length=18>\n",
       "    id     rahr ramin  rasec  decdeg ... prior   rmag  dummy1  pm_ra   pm_dec\n",
       "  int64   int64 int64 float64 int64  ... int64 float64 int64  float64 float64\n",
       "--------- ----- ----- ------- ------ ... ----- ------- ------ ------- -------\n",
       "206896737    21    33  23.946    -54 ...     9  20.147      0     0.0     0.0\n",
       "206896724    21    33  28.173    -54 ...     9  20.507      0     0.0     0.0\n",
       "206898212    21    33  19.468    -54 ...     9  20.615      0     0.0     0.0\n",
       "206897052    21    33  20.455    -54 ...     9  19.512      0     0.0     0.0\n",
       "206897229    21    33  26.003    -54 ...     9  20.603      0     0.0     0.0\n",
       "206896407    21    33  26.225    -54 ...     9  20.782      0     0.0     0.0\n",
       "206898652    21    33  18.958    -54 ...     9  21.162      0     0.0     0.0\n",
       "206897901    21    33  13.727    -54 ...     9  20.786      0     0.0     0.0\n",
       "206898006    21    33  26.271    -54 ...     9   19.48      0     0.0     0.0\n",
       "206897649    21    33  24.444    -54 ...     9  18.503      0     0.0     0.0\n",
       "206899091    21    33  28.536    -54 ...     9  20.925      0     0.0     0.0\n",
       "206898132    21    33  33.601    -54 ...     9  21.411      0     0.0     0.0\n",
       "206898126    21    33  33.519    -54 ...     9  21.029      0     0.0     0.0\n",
       "206897316    21    33  29.386    -54 ...     9  21.253      0     0.0     0.0\n",
       "206898444    21    33  21.977    -54 ...     9  20.705      0     0.0     0.0\n",
       "206898398    21    33  22.175    -54 ...     9  20.865      0     0.0     0.0\n",
       "206897709    21    33   30.62    -54 ...     9  21.202      0     0.0     0.0\n",
       "206896886    21    33  32.584    -54 ...     9  19.726      0     0.0     0.0"
      ]
     },
     "execution_count": 410,
     "metadata": {},
     "output_type": "execute_result"
    }
   ],
   "source": [
    "prgid =intable['dummy1'][0]\n",
    "print('program No.'+str(prgid))\n",
    "gp = [] \n",
    "\n",
    "for i in range(len(intable_nar_8)):\n",
    "    ra = str(intable_nar_8['rahr'][i])+'h'+str(intable_nar_8['ramin'][i])+'m'+str(intable_nar_8['rasec'][i])+'s'\n",
    "    dec = str(intable_nar_8['decdeg'][i])+'d'+str(intable_nar_8['decmin'][i])+'m'+str(intable_nar_8['decsec'][i])+'s'\n",
    "    gp.insert(0,ra+' '+dec)\n",
    "#gp.reverse\n",
    "g = SkyCoord(gp, frame='icrs')\n",
    "\n",
    "cen = [\"21h33m24s -54d44m54s\",\"21h44m25s -40d54m0s\",\"21h49m23s -52d58m15s\",\"21h49m23s -52d58m15s\"]\n",
    "cp = [cen[prgid]]*len(intable_nar_8)\n",
    "f = SkyCoord(cp, frame='icrs')\n",
    "\n",
    "infield = list(g.separation(f).degree)\n",
    "infield.reverse()\n",
    "intable_nar_8[np.where(np.array(infield)<0.025)]"
   ]
  },
  {
   "cell_type": "code",
   "execution_count": 519,
   "metadata": {},
   "outputs": [],
   "source": [
    "deltab = []\n",
    "for i in range(len(listtab)):\n",
    "    if len(listtab['objid'][i])!=9:\n",
    "        deltab.append(i)\n",
    "del listtab[deltab]"
   ]
  },
  {
   "cell_type": "code",
   "execution_count": null,
   "metadata": {},
   "outputs": [],
   "source": []
  },
  {
   "cell_type": "code",
   "execution_count": null,
   "metadata": {},
   "outputs": [],
   "source": []
  },
  {
   "cell_type": "code",
   "execution_count": null,
   "metadata": {},
   "outputs": [],
   "source": []
  },
  {
   "cell_type": "markdown",
   "metadata": {},
   "source": [
    "# FLD file generator for FRB180924"
   ]
  },
  {
   "cell_type": "code",
   "execution_count": 616,
   "metadata": {},
   "outputs": [
    {
     "name": "stdout",
     "output_type": "stream",
     "text": [
      "program No.1\n",
      "Removing 1859 wide2 objects that have already been configured\n",
      "Removing 25 narrow objects that have already been configured\n",
      "Counting 25 narrow objects that have been configured\n"
     ]
    }
   ],
   "source": [
    "randseed = 4023268\n",
    "\n",
    "# Configuration number, and plate number for the new FLD file\n",
    "#confignum = 0\n",
    "#platenum = 0\n",
    "\n",
    "# Master file for FLD input\n",
    "mastercatfil = './FRB180924_wide2.txt'\n",
    "mastercatfil_nar = './FRB180924_21.5_narrow_photz_filtered.txt'\n",
    "\n",
    "# This file lists already configured files (File -> List -> Allocated in 'configure')\n",
    "configlistfil = './outlist_FRB180924_wide2.txt'\n",
    "\n",
    "outputsuffix = './FRB180924_2020B_w2_'\n",
    "\n",
    "np.random.seed(seed=randseed)\n",
    "\n",
    "\n",
    "# These are the number of objects to go into the FLD file. For the sky and guide, we want a bit more objects than we will target.\n",
    "nobj=800\n",
    "nartimes = 2\n",
    "#nsky=65 \n",
    "#nguide=45\n",
    "\n",
    "##### Read in master catalog ##################\n",
    "intable = ascii.read(mastercatfil, data_start=6, names=('id', 'rahr', 'ramin','rasec', 'decdeg', 'decmin', 'decsec', 'flag', 'prior', 'rmag', 'dummy1','pm_ra','pm_dec')) \n",
    "intable_nar = ascii.read(mastercatfil_nar, data_start=0, names=('id', 'rahr', 'ramin','rasec', 'decdeg', 'decmin', 'decsec', 'flag', 'prior', 'rmag', 'dummy1','pm_ra','pm_dec','count')) \n",
    "\n",
    "##############\n",
    "prgid =intable['dummy1'][0]\n",
    "print('program No.'+str(prgid))\n",
    "gp = [] \n",
    "for i in range(len(intable)):\n",
    "    ra = str(intable['rahr'][i])+'h'+str(intable['ramin'][i])+'m'+str(intable['rasec'][i])+'s'\n",
    "    dec = str(intable['decdeg'][i])+'d'+str(intable['decmin'][i])+'m'+str(intable['decsec'][i])+'s'\n",
    "    gp.insert(0,ra+' '+dec)\n",
    "#gp.reverse\n",
    "g = SkyCoord(gp, frame='icrs')\n",
    "\n",
    "cen = [\"21h33m24s -54d44m54s\",\"21h44m25s -40d54m0s\",\"21h49m23s -52d58m15s\",\"21h49m23s -52d58m15s\"]\n",
    "cp = [cen[prgid]]*len(intable)\n",
    "f = SkyCoord(cp, frame='icrs')\n",
    "\n",
    "infield = list(g.separation(f).degree)\n",
    "infield.reverse()\n",
    "intable = intable[np.where(np.array(infield)<1.05)]\n",
    "\n",
    "###############\n",
    "\n",
    "getobj = (intable['flag'] == 'P')\n",
    "getguide = (intable['flag'] == 'F')\n",
    "getsky = (intable['flag'] == 'S')\n",
    "\n",
    "objtable = intable[getobj]\n",
    "guidetable = intable[getguide]\n",
    "skytable = intable[getsky]\n",
    "\n",
    "# Make sure that proper motion of guide stars is < 0.015 arcsec/yr\n",
    "pm_abs = np.sqrt(guidetable['pm_ra']**2  + guidetable['pm_dec']**2)\n",
    "\n",
    "guidetable = guidetable[pm_abs < 0.015]\n",
    "###### Finished reading master catalog #######\n",
    "\n",
    "##### Read list of objects that have already been allocated in other plates ###\n",
    "listfils = ascii.read(configlistfil, format='commented_header')\n",
    "confignum = np.size(listfils) # Assume confignum starts at zero\n",
    "platenum  = int(confignum % 2) # Use modulo 2 to set the plate number\n",
    "if np.size(listfils) > 0:\n",
    "    old_objid = []\n",
    "\n",
    "    for fil in listfils['filname']:\n",
    "        listtab = ascii.read(fil, data_start=9, format='fixed_width_no_header', \n",
    "                             names=('fibernum','objid'), col_starts=(2,6), col_ends=(4,17))\n",
    "        objid_tmp = listtab['objid']\n",
    "        old_objid.append(objid_tmp)\n",
    "        \n",
    "    old_objid = np.asarray(old_objid)\n",
    "        \n",
    "    # Use binary mask to remove objects that have already been allocated from master list\n",
    "    print('Removing {} wide2 objects that have already been configured'.format(np.sum(np.in1d(objtable['id'], old_objid))))\n",
    "    objtable = objtable[~np.in1d(objtable['id'], old_objid)]\n",
    "\n",
    "if np.size(listfils) == 0:\n",
    "    objtable_nar = intable_nar\n",
    "    \n",
    "if np.size(listfils) > 0:\n",
    "    old_objid = []\n",
    "\n",
    "    for fil in listfils['filname']:\n",
    "        listtab = ascii.read(fil, data_start=9, format='fixed_width_no_header', \n",
    "                             names=('fibernum','objid','prior'), col_starts=(2,6,48), col_ends=(4,17,49))\n",
    "        #####\n",
    "#        deltab = []\n",
    "#        for i in range(len(listtab)):\n",
    "#            if len(listtab['objid'][i])!=9:\n",
    "#                deltab.append(i)\n",
    "#        del listtab[deltab]\n",
    "        #####\n",
    "        objid_tmp = listtab[np.in1d(listtab['prior'],[7,8,9])]['objid']\n",
    "        old_objid = list(old_objid)+list(objid_tmp)\n",
    "        \n",
    "    old_objid = np.asarray(old_objid,dtype=int)\n",
    "    for iid in old_objid:\n",
    "        iin = np.where(intable_nar['id']==iid)\n",
    "        intable_nar[iin[0][0]]['count'] += 1\n",
    "        \n",
    "    getobj_nar = (intable_nar['count']!=nartimes)\n",
    "    getconf_nar = (intable_nar['count']!=0)\n",
    "    objtable_nar = intable_nar[getobj_nar]\n",
    "    print('Removing {} narrow objects that have already been configured'.format(np.sum(~getobj_nar)))\n",
    "    print('Counting {} narrow objects that have been configured'.format(np.sum(getconf_nar)))\n",
    "\n",
    "if np.size(objtable) > nobj:\n",
    "    objtable = np.random.choice(objtable, size=nobj, replace=False)   \n",
    "    \n",
    "\n",
    "\n",
    "#guidetable = np.random.choice(guidetable, size=nguide, replace=False)\n",
    "#skytable = np.random.choice(skytable, size=nsky, replace=False)\n",
    "\n",
    "\n",
    "outputfil = outputsuffix+'conf{:02d}_p{:1d}.fld'.format(confignum, platenum) \n",
    "f = open(outputfil, 'w+')\n",
    "\n",
    "f.write('#FLD file number {} of field near FRB180924\\n'.format(confignum))\n",
    "f.write('LABEL FRB180924 2df\\n')\n",
    "f.write('UTDATE 2020 10 9\\n')\n",
    "f.write('CENTRE 21 44 25  -40 54 0\\n')\n",
    "f.write('EQUINOX J2000\\n')\n",
    "f.write('\\n')\n",
    "\n",
    "for tab in objtable:\n",
    "    outstr = '{0:12}   {1:02d} {2:02d} {3:06.3f}  {4:+02d} {5:02d} {6:06.3f}   {7:1}   {8:1d}   {9:6.3f}  {10:1d}  {11:+7.4f} {12:+7.4f}\\n'.format(tab['id'], tab['rahr'], tab['ramin'], tab['rasec'], tab['decdeg'], tab['decmin'], tab['decsec'], tab['flag'], 4, tab['rmag'], tab['dummy1'], tab['pm_ra'], tab['pm_dec'])\n",
    "    f.write(outstr)\n",
    "\n",
    "for tab in guidetable:\n",
    "    outstr = '{0:12}   {1:02d} {2:02d} {3:06.3f}  {4:+02d} {5:02d} {6:06.3f}   {7:1}   {8:1d}   {9:6.3f}  {10:1d}  {11:+7.4f} {12:+7.4f}\\n'.format(tab['id'], tab['rahr'], tab['ramin'], tab['rasec'], tab['decdeg'], tab['decmin'], tab['decsec'], tab['flag'], 6, tab['rmag'], tab['dummy1'], tab['pm_ra'], tab['pm_dec'])\n",
    "    f.write(outstr)\n",
    "\n",
    "for tab in skytable:\n",
    "    outstr = '{0:12}   {1:02d} {2:02d} {3:06.3f}  {4:+02d} {5:02d} {6:06.3f}   {7:1}   {8:1d}   {9:6.3f}  {10:1d}  {11:+7.4f} {12:+7.4f}\\n'.format(tab['id'], tab['rahr'], tab['ramin'], tab['rasec'], tab['decdeg'], tab['decmin'], tab['decsec'], tab['flag'], 6, tab['rmag'], tab['dummy1'], tab['pm_ra'], tab['pm_dec'])\n",
    "    f.write(outstr)\n",
    "    \n",
    "for tab in objtable_nar:\n",
    "    outstr = '{0:12}   {1:02d} {2:02d} {3:06.3f}  {4:+02d} {5:02d} {6:06.3f}   {7:1}   {8:1d}   {9:6.3f}  {10:1d}  {11:+7.4f} {12:+7.4f}\\n'.format(tab['id'], tab['rahr'], tab['ramin'], tab['rasec'], tab['decdeg'], tab['decmin'], tab['decsec'], tab['flag'], tab['prior'], tab['rmag'], tab['dummy1'], tab['pm_ra'], tab['pm_dec'])\n",
    "    f.write(outstr)\n",
    "\n",
    "f.close()"
   ]
  },
  {
   "cell_type": "code",
   "execution_count": null,
   "metadata": {},
   "outputs": [],
   "source": []
  },
  {
   "cell_type": "code",
   "execution_count": null,
   "metadata": {},
   "outputs": [],
   "source": []
  }
 ],
 "metadata": {
  "kernelspec": {
   "display_name": "Python 3",
   "language": "python",
   "name": "python3"
  },
  "language_info": {
   "codemirror_mode": {
    "name": "ipython",
    "version": 3
   },
   "file_extension": ".py",
   "mimetype": "text/x-python",
   "name": "python",
   "nbconvert_exporter": "python",
   "pygments_lexer": "ipython3",
   "version": "3.7.6"
  }
 },
 "nbformat": 4,
 "nbformat_minor": 4
}
